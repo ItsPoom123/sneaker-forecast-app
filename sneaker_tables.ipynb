{
 "cells": [
  {
   "cell_type": "markdown",
   "metadata": {},
   "source": [
    "Tables created from shoes dataframe for use in the web app. Separated this out from the main analysis for clarity."
   ]
  },
  {
   "cell_type": "code",
   "execution_count": 43,
   "metadata": {
    "collapsed": true
   },
   "outputs": [],
   "source": [
    "import pandas as pd\n",
    "import numpy as np\n",
    "import pickle"
   ]
  },
  {
   "cell_type": "code",
   "execution_count": 44,
   "metadata": {
    "collapsed": true
   },
   "outputs": [],
   "source": [
    "with open('data/final_sales_history.pkl', 'rb') as picklefile:\n",
    "    sales_history = pickle.load(picklefile)"
   ]
  },
  {
   "cell_type": "code",
   "execution_count": 45,
   "metadata": {
    "collapsed": false
   },
   "outputs": [
    {
     "data": {
      "text/html": [
       "<div>\n",
       "<table border=\"1\" class=\"dataframe\">\n",
       "  <thead>\n",
       "    <tr style=\"text-align: right;\">\n",
       "      <th></th>\n",
       "      <th>name</th>\n",
       "      <th>weekday</th>\n",
       "      <th>shoe_size</th>\n",
       "      <th>sale_price</th>\n",
       "      <th>sale_date_time</th>\n",
       "      <th>shoe_name</th>\n",
       "      <th>year</th>\n",
       "      <th>month</th>\n",
       "      <th>day</th>\n",
       "      <th>hour</th>\n",
       "      <th>sale_date</th>\n",
       "      <th>line</th>\n",
       "      <th>brand</th>\n",
       "      <th>size_number</th>\n",
       "      <th>colorway</th>\n",
       "      <th>image_url</th>\n",
       "      <th>original_retail</th>\n",
       "      <th>release_date</th>\n",
       "      <th>style_code</th>\n",
       "      <th>main_color</th>\n",
       "    </tr>\n",
       "  </thead>\n",
       "  <tbody>\n",
       "    <tr>\n",
       "      <th>90233</th>\n",
       "      <td>Adidas AW Run Alexander Wang Black</td>\n",
       "      <td>Wednesday</td>\n",
       "      <td>0</td>\n",
       "      <td>325</td>\n",
       "      <td>2017-03-15 16:05:00</td>\n",
       "      <td>Adidas AW Run Alexander Wang Black</td>\n",
       "      <td>2017</td>\n",
       "      <td>3</td>\n",
       "      <td>15</td>\n",
       "      <td>16</td>\n",
       "      <td>2017-03-15</td>\n",
       "      <td>adidas</td>\n",
       "      <td>adidas</td>\n",
       "      <td>9.0</td>\n",
       "      <td>black/white</td>\n",
       "      <td>https://stockx.imgix.net/Adidas-AW-Run-Alexand...</td>\n",
       "      <td>230.0</td>\n",
       "      <td>2017-03-04</td>\n",
       "      <td>cm7825</td>\n",
       "      <td>basic</td>\n",
       "    </tr>\n",
       "    <tr>\n",
       "      <th>90243</th>\n",
       "      <td>Adidas AW Run Alexander Wang Black</td>\n",
       "      <td>Monday</td>\n",
       "      <td>0</td>\n",
       "      <td>350</td>\n",
       "      <td>2017-03-13 11:41:00</td>\n",
       "      <td>Adidas AW Run Alexander Wang Black</td>\n",
       "      <td>2017</td>\n",
       "      <td>3</td>\n",
       "      <td>13</td>\n",
       "      <td>11</td>\n",
       "      <td>2017-03-13</td>\n",
       "      <td>adidas</td>\n",
       "      <td>adidas</td>\n",
       "      <td>12.0</td>\n",
       "      <td>black/white</td>\n",
       "      <td>https://stockx.imgix.net/Adidas-AW-Run-Alexand...</td>\n",
       "      <td>230.0</td>\n",
       "      <td>2017-03-04</td>\n",
       "      <td>cm7825</td>\n",
       "      <td>basic</td>\n",
       "    </tr>\n",
       "    <tr>\n",
       "      <th>90244</th>\n",
       "      <td>Adidas AW Run Alexander Wang Black</td>\n",
       "      <td>Monday</td>\n",
       "      <td>0</td>\n",
       "      <td>315</td>\n",
       "      <td>2017-03-13 11:12:00</td>\n",
       "      <td>Adidas AW Run Alexander Wang Black</td>\n",
       "      <td>2017</td>\n",
       "      <td>3</td>\n",
       "      <td>13</td>\n",
       "      <td>11</td>\n",
       "      <td>2017-03-13</td>\n",
       "      <td>adidas</td>\n",
       "      <td>adidas</td>\n",
       "      <td>12.5</td>\n",
       "      <td>black/white</td>\n",
       "      <td>https://stockx.imgix.net/Adidas-AW-Run-Alexand...</td>\n",
       "      <td>230.0</td>\n",
       "      <td>2017-03-04</td>\n",
       "      <td>cm7825</td>\n",
       "      <td>basic</td>\n",
       "    </tr>\n",
       "    <tr>\n",
       "      <th>90245</th>\n",
       "      <td>Adidas AW Run Alexander Wang Black</td>\n",
       "      <td>Monday</td>\n",
       "      <td>0</td>\n",
       "      <td>325</td>\n",
       "      <td>2017-03-13 10:41:00</td>\n",
       "      <td>Adidas AW Run Alexander Wang Black</td>\n",
       "      <td>2017</td>\n",
       "      <td>3</td>\n",
       "      <td>13</td>\n",
       "      <td>10</td>\n",
       "      <td>2017-03-13</td>\n",
       "      <td>adidas</td>\n",
       "      <td>adidas</td>\n",
       "      <td>9.5</td>\n",
       "      <td>black/white</td>\n",
       "      <td>https://stockx.imgix.net/Adidas-AW-Run-Alexand...</td>\n",
       "      <td>230.0</td>\n",
       "      <td>2017-03-04</td>\n",
       "      <td>cm7825</td>\n",
       "      <td>basic</td>\n",
       "    </tr>\n",
       "    <tr>\n",
       "      <th>90246</th>\n",
       "      <td>Adidas AW Run Alexander Wang Black</td>\n",
       "      <td>Monday</td>\n",
       "      <td>0</td>\n",
       "      <td>275</td>\n",
       "      <td>2017-03-13 09:14:00</td>\n",
       "      <td>Adidas AW Run Alexander Wang Black</td>\n",
       "      <td>2017</td>\n",
       "      <td>3</td>\n",
       "      <td>13</td>\n",
       "      <td>9</td>\n",
       "      <td>2017-03-13</td>\n",
       "      <td>adidas</td>\n",
       "      <td>adidas</td>\n",
       "      <td>11.0</td>\n",
       "      <td>black/white</td>\n",
       "      <td>https://stockx.imgix.net/Adidas-AW-Run-Alexand...</td>\n",
       "      <td>230.0</td>\n",
       "      <td>2017-03-04</td>\n",
       "      <td>cm7825</td>\n",
       "      <td>basic</td>\n",
       "    </tr>\n",
       "  </tbody>\n",
       "</table>\n",
       "</div>"
      ],
      "text/plain": [
       "                                     name    weekday  shoe_size  sale_price  \\\n",
       "90233  Adidas AW Run Alexander Wang Black  Wednesday          0         325   \n",
       "90243  Adidas AW Run Alexander Wang Black     Monday          0         350   \n",
       "90244  Adidas AW Run Alexander Wang Black     Monday          0         315   \n",
       "90245  Adidas AW Run Alexander Wang Black     Monday          0         325   \n",
       "90246  Adidas AW Run Alexander Wang Black     Monday          0         275   \n",
       "\n",
       "           sale_date_time                           shoe_name  year  month  \\\n",
       "90233 2017-03-15 16:05:00  Adidas AW Run Alexander Wang Black  2017      3   \n",
       "90243 2017-03-13 11:41:00  Adidas AW Run Alexander Wang Black  2017      3   \n",
       "90244 2017-03-13 11:12:00  Adidas AW Run Alexander Wang Black  2017      3   \n",
       "90245 2017-03-13 10:41:00  Adidas AW Run Alexander Wang Black  2017      3   \n",
       "90246 2017-03-13 09:14:00  Adidas AW Run Alexander Wang Black  2017      3   \n",
       "\n",
       "       day  hour   sale_date    line   brand  size_number      colorway  \\\n",
       "90233   15    16  2017-03-15  adidas  adidas          9.0   black/white   \n",
       "90243   13    11  2017-03-13  adidas  adidas         12.0   black/white   \n",
       "90244   13    11  2017-03-13  adidas  adidas         12.5   black/white   \n",
       "90245   13    10  2017-03-13  adidas  adidas          9.5   black/white   \n",
       "90246   13     9  2017-03-13  adidas  adidas         11.0   black/white   \n",
       "\n",
       "                                               image_url  original_retail  \\\n",
       "90233  https://stockx.imgix.net/Adidas-AW-Run-Alexand...            230.0   \n",
       "90243  https://stockx.imgix.net/Adidas-AW-Run-Alexand...            230.0   \n",
       "90244  https://stockx.imgix.net/Adidas-AW-Run-Alexand...            230.0   \n",
       "90245  https://stockx.imgix.net/Adidas-AW-Run-Alexand...            230.0   \n",
       "90246  https://stockx.imgix.net/Adidas-AW-Run-Alexand...            230.0   \n",
       "\n",
       "      release_date style_code main_color  \n",
       "90233   2017-03-04     cm7825      basic  \n",
       "90243   2017-03-04     cm7825      basic  \n",
       "90244   2017-03-04     cm7825      basic  \n",
       "90245   2017-03-04     cm7825      basic  \n",
       "90246   2017-03-04     cm7825      basic  "
      ]
     },
     "execution_count": 45,
     "metadata": {},
     "output_type": "execute_result"
    }
   ],
   "source": [
    "sales_history.head()"
   ]
  },
  {
   "cell_type": "code",
   "execution_count": 46,
   "metadata": {
    "collapsed": true
   },
   "outputs": [],
   "source": [
    "## Add a num_sales (frequency) column\n",
    "sales_history['num_sales'] = sales_history.groupby('shoe_name')['shoe_name'].transform('count')"
   ]
  },
  {
   "cell_type": "code",
   "execution_count": 47,
   "metadata": {
    "collapsed": false
   },
   "outputs": [
    {
     "name": "stdout",
     "output_type": "stream",
     "text": [
      "175844\n",
      "171396\n"
     ]
    }
   ],
   "source": [
    "## Limit everything below this to shoes with over 50 sales recorded\n",
    "print(len(sales_history))\n",
    "sales_history = sales_history[sales_history.num_sales > 50]\n",
    "print(len(sales_history))"
   ]
  },
  {
   "cell_type": "code",
   "execution_count": 48,
   "metadata": {
    "collapsed": false
   },
   "outputs": [
    {
     "name": "stdout",
     "output_type": "stream",
     "text": [
      "                                                name release_date  \\\n",
      "0                 Adidas AW Run Alexander Wang Black   2017-03-04   \n",
      "61          Adidas AW Run Clean Alexander Wang White   2017-03-04   \n",
      "256   Adidas EQT Guidance '93 Pusha T \"Black Market\"   2015-11-27   \n",
      "627    Adidas EQT Support 93/17 Core Black Turbo Red   2017-01-26   \n",
      "1051             Adidas EQT Support ADV Triple Black   2016-07-01   \n",
      "\n",
      "                                              image_url style_code  \\\n",
      "0     https://stockx.imgix.net/Adidas-AW-Run-Alexand...     cm7825   \n",
      "61    https://stockx.imgix.net/Adidas-AW-Run-Clean-A...     cm7828   \n",
      "256   https://stockx.imgix.net/Adidas-EQT-Guidance-9...     aq7433   \n",
      "627   https://stockx.imgix.net/Adidas-EQT-Support-93...     bb1234   \n",
      "1051  https://stockx.imgix.net/Adidas-EQT-Support-AD...     ba8324   \n",
      "\n",
      "                                        colorway  original_retail main_color  \\\n",
      "0                                    black/white            230.0      basic   \n",
      "61                             cream white/white            180.0      other   \n",
      "256                                  black/black            200.0      basic   \n",
      "627                  core black/core black/turbo            180.0      other   \n",
      "1051   classic black/classic black/vintage white            110.0      other   \n",
      "\n",
      "        line   brand  transactions_last_month  \n",
      "0     adidas  adidas                       61  \n",
      "61    adidas  adidas                      100  \n",
      "256   adidas  adidas                       19  \n",
      "627   adidas  adidas                      291  \n",
      "1051  adidas  adidas                        9  \n"
     ]
    }
   ],
   "source": [
    "# Creates the shoe_info csv for the flask app\n",
    "info_cols = ['release_date', 'image_url', 'style_code', 'colorway', 'original_retail',\n",
    "                          'main_color', 'line', 'brand']\n",
    "\n",
    "sales_history = sales_history.set_index(['name', 'sale_date_time'])\n",
    "shoe_info = sales_history[info_cols].reset_index()\n",
    "\n",
    "# number of transactions in last month\n",
    "shoe_info = shoe_info[shoe_info.sale_date_time > '2017-02-21']\n",
    "shoe_info['transactions_last_month'] = shoe_info.groupby('name')['name'].transform('count')\n",
    "\n",
    "# shoe image URL - remove extra stuff at the end\n",
    "shoe_info.image_url = shoe_info['image_url'].apply(lambda x: x.split('?')[0])\n",
    "shoe_info = shoe_info.drop('sale_date_time', 1)\n",
    "shoe_info = shoe_info.drop_duplicates()\n",
    "print(shoe_info.head())\n",
    "\n",
    "# send to CSV\n",
    "shoe_info.to_csv('data/shoe_info.csv', index = False)"
   ]
  },
  {
   "cell_type": "code",
   "execution_count": 49,
   "metadata": {
    "collapsed": false
   },
   "outputs": [
    {
     "name": "stdout",
     "output_type": "stream",
     "text": [
      "                                 name        date  volume  sale_mean  \\\n",
      "0  Adidas AW Run Alexander Wang Black  2017-03-03       2      586.0   \n",
      "1  Adidas AW Run Alexander Wang Black  2017-03-05       1      517.0   \n",
      "2  Adidas AW Run Alexander Wang Black  2017-03-06       3      423.0   \n",
      "3  Adidas AW Run Alexander Wang Black  2017-03-08       9      371.0   \n",
      "4  Adidas AW Run Alexander Wang Black  2017-03-09      12      344.0   \n",
      "\n",
      "   sale_min  sale_max  \n",
      "0       497       675  \n",
      "1       517       517  \n",
      "2       300       497  \n",
      "3       350       486  \n",
      "4       286       400  \n"
     ]
    }
   ],
   "source": [
    "# For the historical sales chart \n",
    "chart_data = sales_history.reset_index()\n",
    "chart_data = chart_data.set_index('sale_date_time')\n",
    "chart_data['date'] = chart_data.index.date\n",
    "chart_data = chart_data.reset_index()\n",
    "chart_data = chart_data[['name', 'sale_date', 'sale_price']].groupby(['name', 'sale_date'])\n",
    "\n",
    "chart_data = chart_data.aggregate(['count', 'mean', 'min', 'max']).reset_index()\n",
    "chart_data.columns = chart_data.columns.droplevel(0)\n",
    "chart_data = pd.DataFrame(chart_data)\n",
    "\n",
    "# rename columns for clarity\n",
    "chart_data.columns = ['name', 'date', 'volume', 'sale_mean', 'sale_min', 'sale_max']\n",
    "chart_data.sale_mean = chart_data['sale_mean'].apply(lambda x: round(x))\n",
    "\n",
    "# write to CSV\n",
    "chart_data.to_csv('data/chart_data.csv', index = False)\n",
    "print(chart_data.head())"
   ]
  },
  {
   "cell_type": "code",
   "execution_count": null,
   "metadata": {
    "collapsed": true
   },
   "outputs": [],
   "source": []
  }
 ],
 "metadata": {
  "anaconda-cloud": {},
  "kernelspec": {
   "display_name": "Python [conda root]",
   "language": "python",
   "name": "conda-root-py"
  },
  "language_info": {
   "codemirror_mode": {
    "name": "ipython",
    "version": 2
   },
   "file_extension": ".py",
   "mimetype": "text/x-python",
   "name": "python",
   "nbconvert_exporter": "python",
   "pygments_lexer": "ipython2",
   "version": "2.7.12"
  }
 },
 "nbformat": 4,
 "nbformat_minor": 1
}
