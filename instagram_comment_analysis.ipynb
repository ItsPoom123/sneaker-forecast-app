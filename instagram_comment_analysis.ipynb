{
 "cells": [
  {
   "cell_type": "code",
   "execution_count": null,
   "metadata": {
    "collapsed": true
   },
   "outputs": [],
   "source": [
    "# Stil to do:\n",
    "# Improve word2vec replacement function"
   ]
  },
  {
   "cell_type": "code",
   "execution_count": 18,
   "metadata": {
    "collapsed": false
   },
   "outputs": [],
   "source": [
    "import pickle\n",
    "import pandas as pd\n",
    "import numpy as np\n",
    "from textblob import TextBlob\n",
    "from vaderSentiment.vaderSentiment import SentimentIntensityAnalyzer\n",
    "from afinn import Afinn\n",
    "import gensim\n",
    "from sklearn.manifold import TSNE\n",
    "import multiprocessing\n",
    "%matplotlib inline\n",
    "pd.options.display.max_colwidth = 2000"
   ]
  },
  {
   "cell_type": "code",
   "execution_count": 19,
   "metadata": {
    "collapsed": false
   },
   "outputs": [],
   "source": [
    "with open('comments_list.pkl', 'rb') as picklefile:\n",
    "    comments_list = pickle.load(picklefile)"
   ]
  },
  {
   "cell_type": "code",
   "execution_count": 20,
   "metadata": {
    "collapsed": false
   },
   "outputs": [
    {
     "data": {
      "text/plain": [
       "[('2013-01-30 21:23:28',\n",
       "  u'how many sneakers do you have @yagobi ??',\n",
       "  '380633075979217445',\n",
       "  'lebronxcanary'),\n",
       " ('2013-01-30 21:26:00',\n",
       "  u'@steveekimm not enough... Hahah',\n",
       "  '380633075979217445',\n",
       "  'lebronxcanary')]"
      ]
     },
     "execution_count": 20,
     "metadata": {},
     "output_type": "execute_result"
    }
   ],
   "source": [
    "comments_list[:2]"
   ]
  },
  {
   "cell_type": "code",
   "execution_count": 21,
   "metadata": {
    "collapsed": true
   },
   "outputs": [],
   "source": [
    "comments_df = pd.DataFrame(comments_list)\n",
    "comments_df.columns = ['date_time', 'comment_text', 'media_id','shoe_name']\n",
    "comments_df['date_time'] = pd.to_datetime(comments_df['date_time'],infer_datetime_format=True)"
   ]
  },
  {
   "cell_type": "code",
   "execution_count": 22,
   "metadata": {
    "collapsed": false
   },
   "outputs": [
    {
     "data": {
      "text/plain": [
       "202"
      ]
     },
     "execution_count": 22,
     "metadata": {},
     "output_type": "execute_result"
    }
   ],
   "source": [
    "len(list(comments_df['shoe_name'].unique()))"
   ]
  },
  {
   "cell_type": "code",
   "execution_count": 23,
   "metadata": {
    "collapsed": false
   },
   "outputs": [
    {
     "data": {
      "text/plain": [
       "date_time       datetime64[ns]\n",
       "comment_text            object\n",
       "media_id                object\n",
       "shoe_name               object\n",
       "dtype: object"
      ]
     },
     "execution_count": 23,
     "metadata": {},
     "output_type": "execute_result"
    }
   ],
   "source": [
    "comments_df.dtypes"
   ]
  },
  {
   "cell_type": "code",
   "execution_count": 24,
   "metadata": {
    "collapsed": false
   },
   "outputs": [
    {
     "data": {
      "text/html": [
       "<div>\n",
       "<table border=\"1\" class=\"dataframe\">\n",
       "  <thead>\n",
       "    <tr style=\"text-align: right;\">\n",
       "      <th></th>\n",
       "      <th>date_time</th>\n",
       "      <th>comment_text</th>\n",
       "      <th>media_id</th>\n",
       "      <th>shoe_name</th>\n",
       "    </tr>\n",
       "  </thead>\n",
       "  <tbody>\n",
       "    <tr>\n",
       "      <th>15732</th>\n",
       "      <td>2017-01-28 21:21:55</td>\n",
       "      <td>hm for 9.5 or 10</td>\n",
       "      <td>1437991955761826822</td>\n",
       "      <td>adidasultraboostchinesenewyear</td>\n",
       "    </tr>\n",
       "    <tr>\n",
       "      <th>15733</th>\n",
       "      <td>2017-01-31 13:27:45</td>\n",
       "      <td>(solllddd) adidas ultraboost chinese  new year limited. size 5,5us. thx to bro. a (surabaya)...😊😊</td>\n",
       "      <td>1440048644631154315</td>\n",
       "      <td>adidasultraboostchinesenewyear</td>\n",
       "    </tr>\n",
       "    <tr>\n",
       "      <th>15734</th>\n",
       "      <td>2017-02-02 02:26:25</td>\n",
       "      <td>#adidasultraboost\\n#adidas\\n#adidasori\\n#adidasoriginal\\n#jualadidas\\n#jualadidasori\\n#jualadidasoriginal\\n#adidasultraboostcny\\n#jualadidasultraboostcny\\n#jualadidasultraboostchinesenewyear\\n#jualsepatudidas\\n#jualsepatuadidasultraboost\\n#jualadidasultraboostori\\n#jualadidasiltraboostoriginal\\n#jualadidasultraboostcnyori\\n#jualadidasultraboostcnyoriginal\\n#adidasulraboostori\\n#adidasultraboostoriginal\\n#adidasultraboostcnyori\\n#adidasultraboostcnyoriginal\\n#jualsepatuadidasmurah\\n#adidasultraboostchinesenewyear\\n#jualnike\\n#jualvans\\n#jualasics\\n#jualconverse\\n#jualpuma\\n#adidasultraboostblackwhite\\n#adidasultraboostxwoodwood\\n#jualadidasultraboostxwoodwood</td>\n",
       "      <td>1441164108203337563</td>\n",
       "      <td>adidasultraboostchinesenewyear</td>\n",
       "    </tr>\n",
       "    <tr>\n",
       "      <th>15735</th>\n",
       "      <td>2017-02-02 08:48:33</td>\n",
       "      <td>love them &lt;3</td>\n",
       "      <td>1441164108203337563</td>\n",
       "      <td>adidasultraboostchinesenewyear</td>\n",
       "    </tr>\n",
       "    <tr>\n",
       "      <th>15736</th>\n",
       "      <td>2017-02-10 04:57:43</td>\n",
       "      <td>カッコいい❗ちゃんと似合うからスゴい❗</td>\n",
       "      <td>1447009697970660314</td>\n",
       "      <td>adidasultraboostchinesenewyear</td>\n",
       "    </tr>\n",
       "    <tr>\n",
       "      <th>15737</th>\n",
       "      <td>2017-02-10 05:24:42</td>\n",
       "      <td>カッコいいですね〜😻👌✨</td>\n",
       "      <td>1447009697970660314</td>\n",
       "      <td>adidasultraboostchinesenewyear</td>\n",
       "    </tr>\n",
       "    <tr>\n",
       "      <th>15738</th>\n",
       "      <td>2017-02-10 06:34:40</td>\n",
       "      <td>@akubi4pins ありがとうございます✨嬉しいです😆✌️</td>\n",
       "      <td>1447009697970660314</td>\n",
       "      <td>adidasultraboostchinesenewyear</td>\n",
       "    </tr>\n",
       "    <tr>\n",
       "      <th>15739</th>\n",
       "      <td>2017-02-10 06:35:42</td>\n",
       "      <td>@aya.3410 ありがとうございますm(._.)m色とデザインがカッコイイですよね😍👍</td>\n",
       "      <td>1447009697970660314</td>\n",
       "      <td>adidasultraboostchinesenewyear</td>\n",
       "    </tr>\n",
       "    <tr>\n",
       "      <th>15740</th>\n",
       "      <td>2017-02-10 20:02:33</td>\n",
       "      <td>ayyy this is sweet! keep up the solid work 👐</td>\n",
       "      <td>1447009697970660314</td>\n",
       "      <td>adidasultraboostchinesenewyear</td>\n",
       "    </tr>\n",
       "    <tr>\n",
       "      <th>15741</th>\n",
       "      <td>2017-02-12 05:32:27</td>\n",
       "      <td>👍 👍 👍</td>\n",
       "      <td>1448337057318775749</td>\n",
       "      <td>adidasultraboostchinesenewyear</td>\n",
       "    </tr>\n",
       "  </tbody>\n",
       "</table>\n",
       "</div>"
      ],
      "text/plain": [
       "                date_time  \\\n",
       "15732 2017-01-28 21:21:55   \n",
       "15733 2017-01-31 13:27:45   \n",
       "15734 2017-02-02 02:26:25   \n",
       "15735 2017-02-02 08:48:33   \n",
       "15736 2017-02-10 04:57:43   \n",
       "15737 2017-02-10 05:24:42   \n",
       "15738 2017-02-10 06:34:40   \n",
       "15739 2017-02-10 06:35:42   \n",
       "15740 2017-02-10 20:02:33   \n",
       "15741 2017-02-12 05:32:27   \n",
       "\n",
       "                                                                                                                                                                                                                                                                                                                                                                                                                                                                                                                                                                                                                                                                                     comment_text  \\\n",
       "15732                                                                                                                                                                                                                                                                                                                                                                                                                                                                                                                                                                                                                                                                            hm for 9.5 or 10   \n",
       "15733                                                                                                                                                                                                                                                                                                                                                                                                                                                                                                                                                                                         (solllddd) adidas ultraboost chinese  new year limited. size 5,5us. thx to bro. a (surabaya)...😊😊   \n",
       "15734  #adidasultraboost\\n#adidas\\n#adidasori\\n#adidasoriginal\\n#jualadidas\\n#jualadidasori\\n#jualadidasoriginal\\n#adidasultraboostcny\\n#jualadidasultraboostcny\\n#jualadidasultraboostchinesenewyear\\n#jualsepatudidas\\n#jualsepatuadidasultraboost\\n#jualadidasultraboostori\\n#jualadidasiltraboostoriginal\\n#jualadidasultraboostcnyori\\n#jualadidasultraboostcnyoriginal\\n#adidasulraboostori\\n#adidasultraboostoriginal\\n#adidasultraboostcnyori\\n#adidasultraboostcnyoriginal\\n#jualsepatuadidasmurah\\n#adidasultraboostchinesenewyear\\n#jualnike\\n#jualvans\\n#jualasics\\n#jualconverse\\n#jualpuma\\n#adidasultraboostblackwhite\\n#adidasultraboostxwoodwood\\n#jualadidasultraboostxwoodwood   \n",
       "15735                                                                                                                                                                                                                                                                                                                                                                                                                                                                                                                                                                                                                                                                                love them <3   \n",
       "15736                                                                                                                                                                                                                                                                                                                                                                                                                                                                                                                                                                                                                                                                         カッコいい❗ちゃんと似合うからスゴい❗   \n",
       "15737                                                                                                                                                                                                                                                                                                                                                                                                                                                                                                                                                                                                                                                                              カッコいいですね〜😻👌✨   \n",
       "15738                                                                                                                                                                                                                                                                                                                                                                                                                                                                                                                                                                                                                                                            @akubi4pins ありがとうございます✨嬉しいです😆✌️   \n",
       "15739                                                                                                                                                                                                                                                                                                                                                                                                                                                                                                                                                                                                                                             @aya.3410 ありがとうございますm(._.)m色とデザインがカッコイイですよね😍👍   \n",
       "15740                                                                                                                                                                                                                                                                                                                                                                                                                                                                                                                                                                                                                                               ayyy this is sweet! keep up the solid work 👐   \n",
       "15741                                                                                                                                                                                                                                                                                                                                                                                                                                                                                                                                                                                                                                                                                    👍 👍 👍   \n",
       "\n",
       "                  media_id                       shoe_name  \n",
       "15732  1437991955761826822  adidasultraboostchinesenewyear  \n",
       "15733  1440048644631154315  adidasultraboostchinesenewyear  \n",
       "15734  1441164108203337563  adidasultraboostchinesenewyear  \n",
       "15735  1441164108203337563  adidasultraboostchinesenewyear  \n",
       "15736  1447009697970660314  adidasultraboostchinesenewyear  \n",
       "15737  1447009697970660314  adidasultraboostchinesenewyear  \n",
       "15738  1447009697970660314  adidasultraboostchinesenewyear  \n",
       "15739  1447009697970660314  adidasultraboostchinesenewyear  \n",
       "15740  1447009697970660314  adidasultraboostchinesenewyear  \n",
       "15741  1448337057318775749  adidasultraboostchinesenewyear  "
      ]
     },
     "execution_count": 24,
     "metadata": {},
     "output_type": "execute_result"
    }
   ],
   "source": [
    "comments_df['comment_text'] = comments_df['comment_text'].str.lower()\n",
    "comments_df.tail(10)"
   ]
  },
  {
   "cell_type": "markdown",
   "metadata": {},
   "source": [
    "## Word2Vec"
   ]
  },
  {
   "cell_type": "code",
   "execution_count": 25,
   "metadata": {
    "collapsed": false
   },
   "outputs": [],
   "source": [
    "comments_df['comment_list'] = comments_df.comment_text.str.encode('ascii', 'ignore').str.lower()\n",
    "comments_df['comment_list'] = comments_df.comment_text.str.split(\" \")"
   ]
  },
  {
   "cell_type": "code",
   "execution_count": 26,
   "metadata": {
    "collapsed": true
   },
   "outputs": [],
   "source": [
    "data = []"
   ]
  },
  {
   "cell_type": "code",
   "execution_count": 27,
   "metadata": {
    "collapsed": false
   },
   "outputs": [],
   "source": [
    "for comment in comments_df['comment_list']:\n",
    "    data.append(comment)"
   ]
  },
  {
   "cell_type": "code",
   "execution_count": 28,
   "metadata": {
    "collapsed": false
   },
   "outputs": [],
   "source": [
    "# split so each word is an item in a list\n",
    "num_features = 80 # how many dimension ( 100 is standard )\n",
    "context_size = 7 # window to look in\n",
    "min_word_count = 1\n",
    "num_workers = multiprocessing.cpu_count()\n",
    "\n",
    "comment2vec = gensim.models.Word2Vec(\n",
    "    data,\n",
    "    size = num_features,\n",
    "    window = context_size,\n",
    "    min_count = min_word_count,\n",
    "    workers = num_workers,\n",
    "    sg=1,\n",
    "    seed = 1)\n",
    "\n",
    "# .most_similar = similar words\n",
    "# PCA and TSNE to plot"
   ]
  },
  {
   "cell_type": "code",
   "execution_count": 29,
   "metadata": {
    "collapsed": false
   },
   "outputs": [
    {
     "data": {
      "text/plain": [
       "[(u'nice', 0.9981881976127625),\n",
       " (u'nice!', 0.9976219534873962),\n",
       " (u'\\U0001f44c', 0.9974807500839233),\n",
       " (u'please', 0.996597409248352),\n",
       " (u'awesome', 0.9961418509483337),\n",
       " (u'follow', 0.9958705902099609),\n",
       " (u'sweet', 0.9956631660461426),\n",
       " (u'pic', 0.9956284165382385),\n",
       " (u'pic!', 0.9955254197120667),\n",
       " (u'my', 0.9953514933586121)]"
      ]
     },
     "execution_count": 29,
     "metadata": {},
     "output_type": "execute_result"
    }
   ],
   "source": [
    "comment2vec.most_similar('dope')"
   ]
  },
  {
   "cell_type": "code",
   "execution_count": 30,
   "metadata": {
    "collapsed": false
   },
   "outputs": [],
   "source": [
    "# some emojis still not being picked up like fist bump and peace sign\n",
    "emoji_list = []\n",
    "for i in comments_df.comment_list:\n",
    "    for j in i:\n",
    "        k = j.encode('unicode_escape')\n",
    "        if (b'\\\\U000' in k[0:5]):\n",
    "            if j[0:2] not in emoji_list:\n",
    "                emoji_list.append(j[0:2])"
   ]
  },
  {
   "cell_type": "code",
   "execution_count": 31,
   "metadata": {
    "collapsed": false
   },
   "outputs": [],
   "source": [
    "# Replace emojis and words like \"dope\" with new words based on comment2vec\n",
    "wlist = ['dope'] + emoji_list\n",
    "for w in wlist:\n",
    "    try:\n",
    "        new_word = str(comment2vec.most_similar(w)[0][0])\n",
    "#         print(w, new_word)\n",
    "        ## Replace words with comment2vec\n",
    "        comments_df['comment_text'] = comments_df['comment_text'].str.replace(w, new_word)\n",
    "    except:\n",
    "        continue\n"
   ]
  },
  {
   "cell_type": "code",
   "execution_count": 32,
   "metadata": {
    "collapsed": false
   },
   "outputs": [
    {
     "data": {
      "text/html": [
       "<div>\n",
       "<table border=\"1\" class=\"dataframe\">\n",
       "  <thead>\n",
       "    <tr style=\"text-align: right;\">\n",
       "      <th></th>\n",
       "      <th>date_time</th>\n",
       "      <th>comment_text</th>\n",
       "      <th>media_id</th>\n",
       "      <th>shoe_name</th>\n",
       "      <th>comment_list</th>\n",
       "    </tr>\n",
       "  </thead>\n",
       "  <tbody>\n",
       "    <tr>\n",
       "      <th>15732</th>\n",
       "      <td>2017-01-28 21:21:55</td>\n",
       "      <td>hm for 9.5 or 10</td>\n",
       "      <td>1437991955761826822</td>\n",
       "      <td>adidasultraboostchinesenewyear</td>\n",
       "      <td>[hm, for, 9.5, or, 10]</td>\n",
       "    </tr>\n",
       "    <tr>\n",
       "      <th>15733</th>\n",
       "      <td>2017-01-31 13:27:45</td>\n",
       "      <td>(solllddd) adidas ultraboost chinese  new year limited. size 5,5us. thx to bro. a (surabaya)...😊😊</td>\n",
       "      <td>1440048644631154315</td>\n",
       "      <td>adidasultraboostchinesenewyear</td>\n",
       "      <td>[(solllddd), adidas, ultraboost, chinese, , new, year, limited., size, 5,5us., thx, to, bro., a, (surabaya)...😊😊]</td>\n",
       "    </tr>\n",
       "    <tr>\n",
       "      <th>15734</th>\n",
       "      <td>2017-02-02 02:26:25</td>\n",
       "      <td>#adidasultraboost\\n#adidas\\n#adidasori\\n#adidasoriginal\\n#jualadidas\\n#jualadidasori\\n#jualadidasoriginal\\n#adidasultraboostcny\\n#jualadidasultraboostcny\\n#jualadidasultraboostchinesenewyear\\n#jualsepatudidas\\n#jualsepatuadidasultraboost\\n#jualadidasultraboostori\\n#jualadidasiltraboostoriginal\\n#jualadidasultraboostcnyori\\n#jualadidasultraboostcnyoriginal\\n#adidasulraboostori\\n#adidasultraboostoriginal\\n#adidasultraboostcnyori\\n#adidasultraboostcnyoriginal\\n#jualsepatuadidasmurah\\n#adidasultraboostchinesenewyear\\n#jualnike\\n#jualvans\\n#jualasics\\n#jualconverse\\n#jualpuma\\n#adidasultraboostblackwhite\\n#adidasultraboostxwoodwood\\n#jualadidasultraboostxwoodwood</td>\n",
       "      <td>1441164108203337563</td>\n",
       "      <td>adidasultraboostchinesenewyear</td>\n",
       "      <td>[#adidasultraboost\\n#adidas\\n#adidasori\\n#adidasoriginal\\n#jualadidas\\n#jualadidasori\\n#jualadidasoriginal\\n#adidasultraboostcny\\n#jualadidasultraboostcny\\n#jualadidasultraboostchinesenewyear\\n#jualsepatudidas\\n#jualsepatuadidasultraboost\\n#jualadidasultraboostori\\n#jualadidasiltraboostoriginal\\n#jualadidasultraboostcnyori\\n#jualadidasultraboostcnyoriginal\\n#adidasulraboostori\\n#adidasultraboostoriginal\\n#adidasultraboostcnyori\\n#adidasultraboostcnyoriginal\\n#jualsepatuadidasmurah\\n#adidasultraboostchinesenewyear\\n#jualnike\\n#jualvans\\n#jualasics\\n#jualconverse\\n#jualpuma\\n#adidasultraboostblackwhite\\n#adidasultraboostxwoodwood\\n#jualadidasultraboostxwoodwood]</td>\n",
       "    </tr>\n",
       "    <tr>\n",
       "      <th>15735</th>\n",
       "      <td>2017-02-02 08:48:33</td>\n",
       "      <td>love them &lt;3</td>\n",
       "      <td>1441164108203337563</td>\n",
       "      <td>adidasultraboostchinesenewyear</td>\n",
       "      <td>[love, them, &lt;3]</td>\n",
       "    </tr>\n",
       "    <tr>\n",
       "      <th>15736</th>\n",
       "      <td>2017-02-10 04:57:43</td>\n",
       "      <td>カッコいい❗ちゃんと似合うからスゴい❗</td>\n",
       "      <td>1447009697970660314</td>\n",
       "      <td>adidasultraboostchinesenewyear</td>\n",
       "      <td>[カッコいい❗ちゃんと似合うからスゴい❗]</td>\n",
       "    </tr>\n",
       "    <tr>\n",
       "      <th>15737</th>\n",
       "      <td>2017-02-10 05:24:42</td>\n",
       "      <td>カッコいいですね〜cumashot✨</td>\n",
       "      <td>1447009697970660314</td>\n",
       "      <td>adidasultraboostchinesenewyear</td>\n",
       "      <td>[カッコいいですね〜😻👌✨]</td>\n",
       "    </tr>\n",
       "    <tr>\n",
       "      <th>15738</th>\n",
       "      <td>2017-02-10 06:34:40</td>\n",
       "      <td>@akubi4pins ありがとうございます✨嬉しいですig✌️</td>\n",
       "      <td>1447009697970660314</td>\n",
       "      <td>adidasultraboostchinesenewyear</td>\n",
       "      <td>[@akubi4pins, ありがとうございます✨嬉しいです😆✌️]</td>\n",
       "    </tr>\n",
       "    <tr>\n",
       "      <th>15739</th>\n",
       "      <td>2017-02-10 06:35:42</td>\n",
       "      <td>@aya.3410 ありがとうございますm(._.)m色とデザインがカッコイイですよねpic!</td>\n",
       "      <td>1447009697970660314</td>\n",
       "      <td>adidasultraboostchinesenewyear</td>\n",
       "      <td>[@aya.3410, ありがとうございますm(._.)m色とデザインがカッコイイですよね😍👍]</td>\n",
       "    </tr>\n",
       "    <tr>\n",
       "      <th>15740</th>\n",
       "      <td>2017-02-10 20:02:33</td>\n",
       "      <td>ayyy this is sweet! keep up the solid work sellers.</td>\n",
       "      <td>1447009697970660314</td>\n",
       "      <td>adidasultraboostchinesenewyear</td>\n",
       "      <td>[ayyy, this, is, sweet!, keep, up, the, solid, work, 👐]</td>\n",
       "    </tr>\n",
       "    <tr>\n",
       "      <th>15741</th>\n",
       "      <td>2017-02-12 05:32:27</td>\n",
       "      <td>! ! !</td>\n",
       "      <td>1448337057318775749</td>\n",
       "      <td>adidasultraboostchinesenewyear</td>\n",
       "      <td>[👍, 👍, 👍]</td>\n",
       "    </tr>\n",
       "  </tbody>\n",
       "</table>\n",
       "</div>"
      ],
      "text/plain": [
       "                date_time  \\\n",
       "15732 2017-01-28 21:21:55   \n",
       "15733 2017-01-31 13:27:45   \n",
       "15734 2017-02-02 02:26:25   \n",
       "15735 2017-02-02 08:48:33   \n",
       "15736 2017-02-10 04:57:43   \n",
       "15737 2017-02-10 05:24:42   \n",
       "15738 2017-02-10 06:34:40   \n",
       "15739 2017-02-10 06:35:42   \n",
       "15740 2017-02-10 20:02:33   \n",
       "15741 2017-02-12 05:32:27   \n",
       "\n",
       "                                                                                                                                                                                                                                                                                                                                                                                                                                                                                                                                                                                                                                                                                     comment_text  \\\n",
       "15732                                                                                                                                                                                                                                                                                                                                                                                                                                                                                                                                                                                                                                                                            hm for 9.5 or 10   \n",
       "15733                                                                                                                                                                                                                                                                                                                                                                                                                                                                                                                                                                                         (solllddd) adidas ultraboost chinese  new year limited. size 5,5us. thx to bro. a (surabaya)...😊😊   \n",
       "15734  #adidasultraboost\\n#adidas\\n#adidasori\\n#adidasoriginal\\n#jualadidas\\n#jualadidasori\\n#jualadidasoriginal\\n#adidasultraboostcny\\n#jualadidasultraboostcny\\n#jualadidasultraboostchinesenewyear\\n#jualsepatudidas\\n#jualsepatuadidasultraboost\\n#jualadidasultraboostori\\n#jualadidasiltraboostoriginal\\n#jualadidasultraboostcnyori\\n#jualadidasultraboostcnyoriginal\\n#adidasulraboostori\\n#adidasultraboostoriginal\\n#adidasultraboostcnyori\\n#adidasultraboostcnyoriginal\\n#jualsepatuadidasmurah\\n#adidasultraboostchinesenewyear\\n#jualnike\\n#jualvans\\n#jualasics\\n#jualconverse\\n#jualpuma\\n#adidasultraboostblackwhite\\n#adidasultraboostxwoodwood\\n#jualadidasultraboostxwoodwood   \n",
       "15735                                                                                                                                                                                                                                                                                                                                                                                                                                                                                                                                                                                                                                                                                love them <3   \n",
       "15736                                                                                                                                                                                                                                                                                                                                                                                                                                                                                                                                                                                                                                                                         カッコいい❗ちゃんと似合うからスゴい❗   \n",
       "15737                                                                                                                                                                                                                                                                                                                                                                                                                                                                                                                                                                                                                                                                          カッコいいですね〜cumashot✨   \n",
       "15738                                                                                                                                                                                                                                                                                                                                                                                                                                                                                                                                                                                                                                                            @akubi4pins ありがとうございます✨嬉しいですig✌️   \n",
       "15739                                                                                                                                                                                                                                                                                                                                                                                                                                                                                                                                                                                                                                             @aya.3410 ありがとうございますm(._.)m色とデザインがカッコイイですよねpic!   \n",
       "15740                                                                                                                                                                                                                                                                                                                                                                                                                                                                                                                                                                                                                                         ayyy this is sweet! keep up the solid work sellers.   \n",
       "15741                                                                                                                                                                                                                                                                                                                                                                                                                                                                                                                                                                                                                                                                                       ! ! !   \n",
       "\n",
       "                  media_id                       shoe_name  \\\n",
       "15732  1437991955761826822  adidasultraboostchinesenewyear   \n",
       "15733  1440048644631154315  adidasultraboostchinesenewyear   \n",
       "15734  1441164108203337563  adidasultraboostchinesenewyear   \n",
       "15735  1441164108203337563  adidasultraboostchinesenewyear   \n",
       "15736  1447009697970660314  adidasultraboostchinesenewyear   \n",
       "15737  1447009697970660314  adidasultraboostchinesenewyear   \n",
       "15738  1447009697970660314  adidasultraboostchinesenewyear   \n",
       "15739  1447009697970660314  adidasultraboostchinesenewyear   \n",
       "15740  1447009697970660314  adidasultraboostchinesenewyear   \n",
       "15741  1448337057318775749  adidasultraboostchinesenewyear   \n",
       "\n",
       "                                                                                                                                                                                                                                                                                                                                                                                                                                                                                                                                                                                                                                                                                       comment_list  \n",
       "15732                                                                                                                                                                                                                                                                                                                                                                                                                                                                                                                                                                                                                                                                        [hm, for, 9.5, or, 10]  \n",
       "15733                                                                                                                                                                                                                                                                                                                                                                                                                                                                                                                                                                           [(solllddd), adidas, ultraboost, chinese, , new, year, limited., size, 5,5us., thx, to, bro., a, (surabaya)...😊😊]  \n",
       "15734  [#adidasultraboost\\n#adidas\\n#adidasori\\n#adidasoriginal\\n#jualadidas\\n#jualadidasori\\n#jualadidasoriginal\\n#adidasultraboostcny\\n#jualadidasultraboostcny\\n#jualadidasultraboostchinesenewyear\\n#jualsepatudidas\\n#jualsepatuadidasultraboost\\n#jualadidasultraboostori\\n#jualadidasiltraboostoriginal\\n#jualadidasultraboostcnyori\\n#jualadidasultraboostcnyoriginal\\n#adidasulraboostori\\n#adidasultraboostoriginal\\n#adidasultraboostcnyori\\n#adidasultraboostcnyoriginal\\n#jualsepatuadidasmurah\\n#adidasultraboostchinesenewyear\\n#jualnike\\n#jualvans\\n#jualasics\\n#jualconverse\\n#jualpuma\\n#adidasultraboostblackwhite\\n#adidasultraboostxwoodwood\\n#jualadidasultraboostxwoodwood]  \n",
       "15735                                                                                                                                                                                                                                                                                                                                                                                                                                                                                                                                                                                                                                                                              [love, them, <3]  \n",
       "15736                                                                                                                                                                                                                                                                                                                                                                                                                                                                                                                                                                                                                                                                         [カッコいい❗ちゃんと似合うからスゴい❗]  \n",
       "15737                                                                                                                                                                                                                                                                                                                                                                                                                                                                                                                                                                                                                                                                              [カッコいいですね〜😻👌✨]  \n",
       "15738                                                                                                                                                                                                                                                                                                                                                                                                                                                                                                                                                                                                                                                           [@akubi4pins, ありがとうございます✨嬉しいです😆✌️]  \n",
       "15739                                                                                                                                                                                                                                                                                                                                                                                                                                                                                                                                                                                                                                            [@aya.3410, ありがとうございますm(._.)m色とデザインがカッコイイですよね😍👍]  \n",
       "15740                                                                                                                                                                                                                                                                                                                                                                                                                                                                                                                                                                                                                                      [ayyy, this, is, sweet!, keep, up, the, solid, work, 👐]  \n",
       "15741                                                                                                                                                                                                                                                                                                                                                                                                                                                                                                                                                                                                                                                                                  [👍, 👍, 👍]  "
      ]
     },
     "execution_count": 32,
     "metadata": {},
     "output_type": "execute_result"
    }
   ],
   "source": [
    "comments_df.tail(10)"
   ]
  },
  {
   "cell_type": "markdown",
   "metadata": {},
   "source": [
    "# Sentiment Analysis"
   ]
  },
  {
   "cell_type": "code",
   "execution_count": 33,
   "metadata": {
    "collapsed": false
   },
   "outputs": [],
   "source": [
    "## Try out the different sentiment analyses\n",
    "analyzer = SentimentIntensityAnalyzer()\n",
    "afinn = Afinn(emoticons=True)\n",
    "# Textblob\n",
    "comments_df['sentiment_textblob'] = comments_df['comment_text'].apply(lambda x: TextBlob(x.strip()).sentiment.polarity)\n",
    "\n",
    "# Vader\n",
    "comments_df['sentiment_vader'] = comments_df['comment_text'].apply(lambda x: analyzer.polarity_scores(x.strip())['compound'])\n",
    "\n",
    "# Afinn\n",
    "comments_df['sentiment_afinn'] = comments_df['comment_text'].apply(lambda x: afinn.score(x.strip()))"
   ]
  },
  {
   "cell_type": "markdown",
   "metadata": {},
   "source": [
    "## Output table for web"
   ]
  },
  {
   "cell_type": "code",
   "execution_count": 38,
   "metadata": {
    "collapsed": false
   },
   "outputs": [
    {
     "data": {
      "image/png": "[encoded data removed]",
      "text/plain": [
       "<matplotlib.figure.Figure at 0x11a6a5e50>"
      ]
     },
     "metadata": {},
     "output_type": "display_data"
    }
   ],
   "source": [
    "# Still a lot of 0 sentiment\n",
    "comments_df.sentiment_vader.plot(kind = 'hist', bins=20);"
   ]
  },
  {
   "cell_type": "code",
   "execution_count": 39,
   "metadata": {
    "collapsed": false
   },
   "outputs": [
    {
     "name": "stdout",
     "output_type": "stream",
     "text": [
      "11099\n",
      "10650\n",
      "10601\n"
     ]
    }
   ],
   "source": [
    "def count_zeroes(colname):\n",
    "    return len(comments_df.loc[comments_df[colname] == 0, colname])\n",
    "print(count_zeroes('sentiment_textblob'))\n",
    "print(count_zeroes('sentiment_vader'))\n",
    "print(count_zeroes('sentiment_afinn'))"
   ]
  },
  {
   "cell_type": "code",
   "execution_count": 40,
   "metadata": {
    "collapsed": true
   },
   "outputs": [],
   "source": [
    "# overall comment count and mean sentiment \n",
    "sentsum = comments_df.groupby('shoe_name')['sentiment_vader'].aggregate(['count', 'mean']).reset_index()\n",
    "# number of comments in last month\n",
    "recent = comments_df[comments_df.date_time > '2017-02-25']\n",
    "recent = recent.groupby('shoe_name')['shoe_name'].size().reset_index()\n",
    "sentsum = sentsum.merge(recent, how = 'left', on = 'shoe_name')\n",
    "sentsum.columns = ['name', 'comments_total', 'mean_sentiment', 'comments_last_month']\n",
    "sentsum.loc[sentsum.comments_last_month.isnull(), 'comments_last_month'] = 0\n",
    "sentsum.loc[sentsum.comments_total < 5, 'mean_sentiment'] = np.nan\n",
    "sentiment_not_null = len(sentsum[sentsum.mean_sentiment.notnull()])"
   ]
  },
  {
   "cell_type": "code",
   "execution_count": 41,
   "metadata": {
    "collapsed": false
   },
   "outputs": [],
   "source": [
    "sentsum['sentiment_rank'] = (sentsum['mean_sentiment'].rank() / sentiment_not_null).apply(lambda x: round(x, 3)) * 100\n",
    "sentsum['comments_last_month_rank'] = (sentsum['comments_last_month'].rank() / len(sentsum)).apply(lambda x: round(x, 3)) * 100\n",
    "sentsum['mean_sentiment'] = sentsum['mean_sentiment'].apply(lambda x: round(x, 2))\n",
    "sentsum['comments_last_month'] = sentsum['comments_last_month'].apply(lambda x: round(x))"
   ]
  },
  {
   "cell_type": "code",
   "execution_count": 42,
   "metadata": {
    "collapsed": false
   },
   "outputs": [
    {
     "data": {
      "text/html": [
       "<div>\n",
       "<table border=\"1\" class=\"dataframe\">\n",
       "  <thead>\n",
       "    <tr style=\"text-align: right;\">\n",
       "      <th></th>\n",
       "      <th>name</th>\n",
       "      <th>comments_total</th>\n",
       "      <th>mean_sentiment</th>\n",
       "      <th>comments_last_month</th>\n",
       "      <th>sentiment_rank</th>\n",
       "      <th>comments_last_month_rank</th>\n",
       "    </tr>\n",
       "  </thead>\n",
       "  <tbody>\n",
       "    <tr>\n",
       "      <th>55</th>\n",
       "      <td>airmaxmaster</td>\n",
       "      <td>3032</td>\n",
       "      <td>0.11</td>\n",
       "      <td>2905.0</td>\n",
       "      <td>52.8</td>\n",
       "      <td>100.0</td>\n",
       "    </tr>\n",
       "    <tr>\n",
       "      <th>51</th>\n",
       "      <td>airmaxcork</td>\n",
       "      <td>1899</td>\n",
       "      <td>0.12</td>\n",
       "      <td>141.0</td>\n",
       "      <td>54.6</td>\n",
       "      <td>99.5</td>\n",
       "    </tr>\n",
       "    <tr>\n",
       "      <th>26</th>\n",
       "      <td>adidasultraboosttripleblack</td>\n",
       "      <td>573</td>\n",
       "      <td>0.14</td>\n",
       "      <td>131.0</td>\n",
       "      <td>66.9</td>\n",
       "      <td>99.0</td>\n",
       "    </tr>\n",
       "    <tr>\n",
       "      <th>49</th>\n",
       "      <td>airmaxatmoselephant</td>\n",
       "      <td>133</td>\n",
       "      <td>0.17</td>\n",
       "      <td>98.0</td>\n",
       "      <td>80.4</td>\n",
       "      <td>98.5</td>\n",
       "    </tr>\n",
       "    <tr>\n",
       "      <th>59</th>\n",
       "      <td>airmaxsilverbullet</td>\n",
       "      <td>153</td>\n",
       "      <td>0.13</td>\n",
       "      <td>96.0</td>\n",
       "      <td>58.3</td>\n",
       "      <td>98.0</td>\n",
       "    </tr>\n",
       "    <tr>\n",
       "      <th>105</th>\n",
       "      <td>jordanretro</td>\n",
       "      <td>86</td>\n",
       "      <td>0.11</td>\n",
       "      <td>84.0</td>\n",
       "      <td>47.2</td>\n",
       "      <td>97.5</td>\n",
       "    </tr>\n",
       "    <tr>\n",
       "      <th>174</th>\n",
       "      <td>kyrieduke</td>\n",
       "      <td>132</td>\n",
       "      <td>0.09</td>\n",
       "      <td>81.0</td>\n",
       "      <td>39.3</td>\n",
       "      <td>97.0</td>\n",
       "    </tr>\n",
       "    <tr>\n",
       "      <th>163</th>\n",
       "      <td>kobeadoregon</td>\n",
       "      <td>77</td>\n",
       "      <td>0.16</td>\n",
       "      <td>74.0</td>\n",
       "      <td>78.5</td>\n",
       "      <td>96.5</td>\n",
       "    </tr>\n",
       "    <tr>\n",
       "      <th>5</th>\n",
       "      <td>adidasnmdolive</td>\n",
       "      <td>285</td>\n",
       "      <td>0.13</td>\n",
       "      <td>72.0</td>\n",
       "      <td>58.9</td>\n",
       "      <td>96.0</td>\n",
       "    </tr>\n",
       "    <tr>\n",
       "      <th>99</th>\n",
       "      <td>jordanchicago</td>\n",
       "      <td>100</td>\n",
       "      <td>0.06</td>\n",
       "      <td>58.0</td>\n",
       "      <td>25.8</td>\n",
       "      <td>95.5</td>\n",
       "    </tr>\n",
       "    <tr>\n",
       "      <th>27</th>\n",
       "      <td>adidasultraboosttriplewhite</td>\n",
       "      <td>477</td>\n",
       "      <td>0.12</td>\n",
       "      <td>54.0</td>\n",
       "      <td>53.4</td>\n",
       "      <td>95.0</td>\n",
       "    </tr>\n",
       "    <tr>\n",
       "      <th>30</th>\n",
       "      <td>adidasultraboostuncagedsolarred</td>\n",
       "      <td>59</td>\n",
       "      <td>0.08</td>\n",
       "      <td>43.0</td>\n",
       "      <td>35.0</td>\n",
       "      <td>94.3</td>\n",
       "    </tr>\n",
       "    <tr>\n",
       "      <th>190</th>\n",
       "      <td>nikeairmagbacktothefuture</td>\n",
       "      <td>73</td>\n",
       "      <td>0.21</td>\n",
       "      <td>43.0</td>\n",
       "      <td>88.3</td>\n",
       "      <td>94.3</td>\n",
       "    </tr>\n",
       "    <tr>\n",
       "      <th>20</th>\n",
       "      <td>adidasultraboostoreo</td>\n",
       "      <td>165</td>\n",
       "      <td>0.21</td>\n",
       "      <td>42.0</td>\n",
       "      <td>87.1</td>\n",
       "      <td>93.6</td>\n",
       "    </tr>\n",
       "    <tr>\n",
       "      <th>194</th>\n",
       "      <td>nikeflyknitracergoddess</td>\n",
       "      <td>41</td>\n",
       "      <td>0.04</td>\n",
       "      <td>40.0</td>\n",
       "      <td>16.6</td>\n",
       "      <td>93.1</td>\n",
       "    </tr>\n",
       "    <tr>\n",
       "      <th>52</th>\n",
       "      <td>airmaxcurry</td>\n",
       "      <td>1091</td>\n",
       "      <td>0.12</td>\n",
       "      <td>37.0</td>\n",
       "      <td>54.0</td>\n",
       "      <td>92.6</td>\n",
       "    </tr>\n",
       "    <tr>\n",
       "      <th>151</th>\n",
       "      <td>jordanunc</td>\n",
       "      <td>102</td>\n",
       "      <td>0.14</td>\n",
       "      <td>26.0</td>\n",
       "      <td>68.1</td>\n",
       "      <td>91.8</td>\n",
       "    </tr>\n",
       "    <tr>\n",
       "      <th>50</th>\n",
       "      <td>airmaxatmossafari</td>\n",
       "      <td>125</td>\n",
       "      <td>0.15</td>\n",
       "      <td>26.0</td>\n",
       "      <td>73.0</td>\n",
       "      <td>91.8</td>\n",
       "    </tr>\n",
       "    <tr>\n",
       "      <th>66</th>\n",
       "      <td>airprestosafari</td>\n",
       "      <td>231</td>\n",
       "      <td>0.03</td>\n",
       "      <td>25.0</td>\n",
       "      <td>9.8</td>\n",
       "      <td>91.1</td>\n",
       "    </tr>\n",
       "    <tr>\n",
       "      <th>36</th>\n",
       "      <td>adidasyeezyboostmoonrock</td>\n",
       "      <td>142</td>\n",
       "      <td>0.11</td>\n",
       "      <td>24.0</td>\n",
       "      <td>51.5</td>\n",
       "      <td>90.3</td>\n",
       "    </tr>\n",
       "    <tr>\n",
       "      <th>153</th>\n",
       "      <td>kdauntpearl</td>\n",
       "      <td>92</td>\n",
       "      <td>0.18</td>\n",
       "      <td>24.0</td>\n",
       "      <td>82.8</td>\n",
       "      <td>90.3</td>\n",
       "    </tr>\n",
       "    <tr>\n",
       "      <th>176</th>\n",
       "      <td>kyriesamurai</td>\n",
       "      <td>63</td>\n",
       "      <td>0.10</td>\n",
       "      <td>23.0</td>\n",
       "      <td>46.6</td>\n",
       "      <td>89.1</td>\n",
       "    </tr>\n",
       "    <tr>\n",
       "      <th>178</th>\n",
       "      <td>lebronbhm</td>\n",
       "      <td>110</td>\n",
       "      <td>0.12</td>\n",
       "      <td>23.0</td>\n",
       "      <td>57.1</td>\n",
       "      <td>89.1</td>\n",
       "    </tr>\n",
       "    <tr>\n",
       "      <th>172</th>\n",
       "      <td>kyriebhm</td>\n",
       "      <td>116</td>\n",
       "      <td>0.11</td>\n",
       "      <td>23.0</td>\n",
       "      <td>52.1</td>\n",
       "      <td>89.1</td>\n",
       "    </tr>\n",
       "    <tr>\n",
       "      <th>56</th>\n",
       "      <td>airmaxoginfrared</td>\n",
       "      <td>59</td>\n",
       "      <td>0.20</td>\n",
       "      <td>20.0</td>\n",
       "      <td>85.9</td>\n",
       "      <td>87.9</td>\n",
       "    </tr>\n",
       "    <tr>\n",
       "      <th>200</th>\n",
       "      <td>vanserafearofgod</td>\n",
       "      <td>36</td>\n",
       "      <td>0.10</td>\n",
       "      <td>20.0</td>\n",
       "      <td>41.7</td>\n",
       "      <td>87.9</td>\n",
       "    </tr>\n",
       "    <tr>\n",
       "      <th>40</th>\n",
       "      <td>adidasyeezyboostturtledove</td>\n",
       "      <td>243</td>\n",
       "      <td>0.16</td>\n",
       "      <td>19.0</td>\n",
       "      <td>76.7</td>\n",
       "      <td>87.1</td>\n",
       "    </tr>\n",
       "    <tr>\n",
       "      <th>199</th>\n",
       "      <td>nikeflyknitracertripleblack</td>\n",
       "      <td>31</td>\n",
       "      <td>0.09</td>\n",
       "      <td>18.0</td>\n",
       "      <td>40.5</td>\n",
       "      <td>86.6</td>\n",
       "    </tr>\n",
       "    <tr>\n",
       "      <th>11</th>\n",
       "      <td>adidasultraboostburgundy</td>\n",
       "      <td>52</td>\n",
       "      <td>0.16</td>\n",
       "      <td>17.0</td>\n",
       "      <td>77.3</td>\n",
       "      <td>86.1</td>\n",
       "    </tr>\n",
       "    <tr>\n",
       "      <th>23</th>\n",
       "      <td>adidasultraboostsilverpack</td>\n",
       "      <td>35</td>\n",
       "      <td>0.05</td>\n",
       "      <td>16.0</td>\n",
       "      <td>19.0</td>\n",
       "      <td>85.4</td>\n",
       "    </tr>\n",
       "    <tr>\n",
       "      <th>33</th>\n",
       "      <td>adidasultraboostuncagedtripleblack</td>\n",
       "      <td>62</td>\n",
       "      <td>0.13</td>\n",
       "      <td>16.0</td>\n",
       "      <td>60.1</td>\n",
       "      <td>85.4</td>\n",
       "    </tr>\n",
       "    <tr>\n",
       "      <th>197</th>\n",
       "      <td>nikeflyknitraceroreo</td>\n",
       "      <td>32</td>\n",
       "      <td>0.13</td>\n",
       "      <td>15.0</td>\n",
       "      <td>63.2</td>\n",
       "      <td>84.7</td>\n",
       "    </tr>\n",
       "    <tr>\n",
       "      <th>16</th>\n",
       "      <td>adidasultraboostmulticolor</td>\n",
       "      <td>197</td>\n",
       "      <td>0.11</td>\n",
       "      <td>14.0</td>\n",
       "      <td>47.9</td>\n",
       "      <td>84.2</td>\n",
       "    </tr>\n",
       "    <tr>\n",
       "      <th>12</th>\n",
       "      <td>adidasultraboostchinesenewyear</td>\n",
       "      <td>110</td>\n",
       "      <td>0.22</td>\n",
       "      <td>13.0</td>\n",
       "      <td>89.0</td>\n",
       "      <td>83.7</td>\n",
       "    </tr>\n",
       "    <tr>\n",
       "      <th>195</th>\n",
       "      <td>nikeflyknitracermulticolor</td>\n",
       "      <td>33</td>\n",
       "      <td>0.07</td>\n",
       "      <td>11.0</td>\n",
       "      <td>26.4</td>\n",
       "      <td>82.9</td>\n",
       "    </tr>\n",
       "    <tr>\n",
       "      <th>93</th>\n",
       "      <td>foampositeprosilversurfer</td>\n",
       "      <td>12</td>\n",
       "      <td>0.09</td>\n",
       "      <td>11.0</td>\n",
       "      <td>38.0</td>\n",
       "      <td>82.9</td>\n",
       "    </tr>\n",
       "    <tr>\n",
       "      <th>31</th>\n",
       "      <td>adidasultraboostuncagedsolebox</td>\n",
       "      <td>91</td>\n",
       "      <td>0.03</td>\n",
       "      <td>10.0</td>\n",
       "      <td>12.3</td>\n",
       "      <td>81.9</td>\n",
       "    </tr>\n",
       "    <tr>\n",
       "      <th>13</th>\n",
       "      <td>adidasultraboostcoreblack</td>\n",
       "      <td>254</td>\n",
       "      <td>0.08</td>\n",
       "      <td>10.0</td>\n",
       "      <td>32.5</td>\n",
       "      <td>81.9</td>\n",
       "    </tr>\n",
       "    <tr>\n",
       "      <th>37</th>\n",
       "      <td>adidasyeezyboostoxfordtan</td>\n",
       "      <td>202</td>\n",
       "      <td>0.08</td>\n",
       "      <td>9.0</td>\n",
       "      <td>31.9</td>\n",
       "      <td>81.2</td>\n",
       "    </tr>\n",
       "    <tr>\n",
       "      <th>114</th>\n",
       "      <td>jordanretrobred</td>\n",
       "      <td>34</td>\n",
       "      <td>0.08</td>\n",
       "      <td>8.0</td>\n",
       "      <td>33.1</td>\n",
       "      <td>80.7</td>\n",
       "    </tr>\n",
       "  </tbody>\n",
       "</table>\n",
       "</div>"
      ],
      "text/plain": [
       "                                   name  comments_total  mean_sentiment  \\\n",
       "55                         airmaxmaster            3032            0.11   \n",
       "51                           airmaxcork            1899            0.12   \n",
       "26          adidasultraboosttripleblack             573            0.14   \n",
       "49                  airmaxatmoselephant             133            0.17   \n",
       "59                   airmaxsilverbullet             153            0.13   \n",
       "105                         jordanretro              86            0.11   \n",
       "174                           kyrieduke             132            0.09   \n",
       "163                        kobeadoregon              77            0.16   \n",
       "5                        adidasnmdolive             285            0.13   \n",
       "99                        jordanchicago             100            0.06   \n",
       "27          adidasultraboosttriplewhite             477            0.12   \n",
       "30      adidasultraboostuncagedsolarred              59            0.08   \n",
       "190           nikeairmagbacktothefuture              73            0.21   \n",
       "20                 adidasultraboostoreo             165            0.21   \n",
       "194             nikeflyknitracergoddess              41            0.04   \n",
       "52                          airmaxcurry            1091            0.12   \n",
       "151                           jordanunc             102            0.14   \n",
       "50                    airmaxatmossafari             125            0.15   \n",
       "66                      airprestosafari             231            0.03   \n",
       "36             adidasyeezyboostmoonrock             142            0.11   \n",
       "153                         kdauntpearl              92            0.18   \n",
       "176                        kyriesamurai              63            0.10   \n",
       "178                           lebronbhm             110            0.12   \n",
       "172                            kyriebhm             116            0.11   \n",
       "56                     airmaxoginfrared              59            0.20   \n",
       "200                    vanserafearofgod              36            0.10   \n",
       "40           adidasyeezyboostturtledove             243            0.16   \n",
       "199         nikeflyknitracertripleblack              31            0.09   \n",
       "11             adidasultraboostburgundy              52            0.16   \n",
       "23           adidasultraboostsilverpack              35            0.05   \n",
       "33   adidasultraboostuncagedtripleblack              62            0.13   \n",
       "197                nikeflyknitraceroreo              32            0.13   \n",
       "16           adidasultraboostmulticolor             197            0.11   \n",
       "12       adidasultraboostchinesenewyear             110            0.22   \n",
       "195          nikeflyknitracermulticolor              33            0.07   \n",
       "93            foampositeprosilversurfer              12            0.09   \n",
       "31       adidasultraboostuncagedsolebox              91            0.03   \n",
       "13            adidasultraboostcoreblack             254            0.08   \n",
       "37            adidasyeezyboostoxfordtan             202            0.08   \n",
       "114                     jordanretrobred              34            0.08   \n",
       "\n",
       "     comments_last_month  sentiment_rank  comments_last_month_rank  \n",
       "55                2905.0            52.8                     100.0  \n",
       "51                 141.0            54.6                      99.5  \n",
       "26                 131.0            66.9                      99.0  \n",
       "49                  98.0            80.4                      98.5  \n",
       "59                  96.0            58.3                      98.0  \n",
       "105                 84.0            47.2                      97.5  \n",
       "174                 81.0            39.3                      97.0  \n",
       "163                 74.0            78.5                      96.5  \n",
       "5                   72.0            58.9                      96.0  \n",
       "99                  58.0            25.8                      95.5  \n",
       "27                  54.0            53.4                      95.0  \n",
       "30                  43.0            35.0                      94.3  \n",
       "190                 43.0            88.3                      94.3  \n",
       "20                  42.0            87.1                      93.6  \n",
       "194                 40.0            16.6                      93.1  \n",
       "52                  37.0            54.0                      92.6  \n",
       "151                 26.0            68.1                      91.8  \n",
       "50                  26.0            73.0                      91.8  \n",
       "66                  25.0             9.8                      91.1  \n",
       "36                  24.0            51.5                      90.3  \n",
       "153                 24.0            82.8                      90.3  \n",
       "176                 23.0            46.6                      89.1  \n",
       "178                 23.0            57.1                      89.1  \n",
       "172                 23.0            52.1                      89.1  \n",
       "56                  20.0            85.9                      87.9  \n",
       "200                 20.0            41.7                      87.9  \n",
       "40                  19.0            76.7                      87.1  \n",
       "199                 18.0            40.5                      86.6  \n",
       "11                  17.0            77.3                      86.1  \n",
       "23                  16.0            19.0                      85.4  \n",
       "33                  16.0            60.1                      85.4  \n",
       "197                 15.0            63.2                      84.7  \n",
       "16                  14.0            47.9                      84.2  \n",
       "12                  13.0            89.0                      83.7  \n",
       "195                 11.0            26.4                      82.9  \n",
       "93                  11.0            38.0                      82.9  \n",
       "31                  10.0            12.3                      81.9  \n",
       "13                  10.0            32.5                      81.9  \n",
       "37                   9.0            31.9                      81.2  \n",
       "114                  8.0            33.1                      80.7  "
      ]
     },
     "execution_count": 42,
     "metadata": {},
     "output_type": "execute_result"
    }
   ],
   "source": [
    "sentsum.sort_values(['comments_last_month'], ascending = False).head(40)"
   ]
  },
  {
   "cell_type": "code",
   "execution_count": 43,
   "metadata": {
    "collapsed": false
   },
   "outputs": [
    {
     "name": "stdout",
     "output_type": "stream",
     "text": [
      "                         name  comments_total  mean_sentiment  \\\n",
      "80   foampositeonephoenixsuns              14            0.48   \n",
      "109         jordanretrobanned               5            0.40   \n",
      "123          jordanretrogrape              10            0.36   \n",
      "111       jordanretroblackcat              12            0.35   \n",
      "127         jordanretrogymred               9            0.35   \n",
      "\n",
      "     comments_last_month  sentiment_rank  comments_last_month_rank  \n",
      "80                   0.0           100.0                      31.2  \n",
      "109                  0.0            99.4                      31.2  \n",
      "123                  0.0            98.8                      31.2  \n",
      "111                  0.0            98.2                      31.2  \n",
      "127                  0.0            97.5                      31.2  \n"
     ]
    }
   ],
   "source": [
    "sentsum = sentsum.sort_values('mean_sentiment', ascending = False)\n",
    "print(sentsum.head())"
   ]
  },
  {
   "cell_type": "code",
   "execution_count": 90,
   "metadata": {
    "collapsed": true
   },
   "outputs": [],
   "source": [
    "sentsum.to_csv('sentsum.csv', index = False)"
   ]
  },
  {
   "cell_type": "code",
   "execution_count": 150,
   "metadata": {
    "collapsed": true
   },
   "outputs": [],
   "source": [
    "# sentsum.to_csv('from_ec2/sentsum.csv', index = False)"
   ]
  },
  {
   "cell_type": "code",
   "execution_count": null,
   "metadata": {
    "collapsed": true
   },
   "outputs": [],
   "source": []
  }
 ],
 "metadata": {
  "anaconda-cloud": {},
  "kernelspec": {
   "display_name": "Python [conda root]",
   "language": "python",
   "name": "conda-root-py"
  },
  "language_info": {
   "codemirror_mode": {
    "name": "ipython",
    "version": 2
   },
   "file_extension": ".py",
   "mimetype": "text/x-python",
   "name": "python",
   "nbconvert_exporter": "python",
   "pygments_lexer": "ipython2",
   "version": "2.7.12"
  }
 },
 "nbformat": 4,
 "nbformat_minor": 1
}
