{
 "cells": [
  {
   "cell_type": "markdown",
   "metadata": {},
   "source": [
    "<a id=\"top\"></a>\n",
    "# Sections"
   ]
  },
  {
   "cell_type": "markdown",
   "metadata": {},
   "source": [
    "[Intro](#intro)  \n",
    "[Setup](#setup)  \n",
    "[Load Data](#loaddata)  \n",
    " - [Load Sales History](#saleshistory)  \n",
    " - [Load Summary Table](#summarytable)  \n",
    " - [Merge](#merge)\n",
    " \n",
    "[Exploration](#explore)  \n",
    "[Export](#export)  \n",
    "[Feature Engineering](#features)  \n",
    "[Modeling](#model)\n"
   ]
  },
  {
   "cell_type": "markdown",
   "metadata": {},
   "source": [
    "<a id='intro'></a>\n",
    "# Intro\n",
    "[Back to top](#top)"
   ]
  },
  {
   "cell_type": "markdown",
   "metadata": {},
   "source": [
    "The objective is to forecast short-term (up to 7 days out) price behaviour for all of the sneakers in my dataset.  \n",
    "In this notebook I'll load & clean the data, and run a regression model to make predictions.  \n",
    "The results of this analysis will be written to a csv file for use in a flask app."
   ]
  },
  {
   "cell_type": "markdown",
   "metadata": {},
   "source": [
    "<a id='setup'></a>\n",
    "# Setup\n",
    "[Back to top](#top)"
   ]
  },
  {
   "cell_type": "code",
   "execution_count": 150,
   "metadata": {
    "collapsed": false
   },
   "outputs": [],
   "source": [
    "# Imports and options\n",
    "import pandas as pd\n",
    "import numpy as np\n",
    "import matplotlib as plt\n",
    "import pickle\n",
    "import re\n",
    "from random import randint\n",
    "import re\n",
    "\n",
    "import matplotlib.pyplot as plt\n",
    "import matplotlib.ticker as mtick\n",
    "import seaborn as sns\n",
    "from seaborn import plt\n",
    "\n",
    "from sklearn.linear_model import LinearRegression\n",
    "from sklearn.metrics import mean_squared_error\n",
    "\n",
    "from statsmodels.tsa.stattools import adfuller\n",
    "from statsmodels.tsa.stattools import acf, pacf\n",
    "from statsmodels.tsa.arima_model import ARIMA\n",
    "import statsmodels.api as sm\n",
    "\n",
    "% matplotlib inline\n",
    "\n",
    "# Pandas display options\n",
    "pd.options.display.max_columns = 40\n",
    "pd.options.display.max_rows = 200\n",
    "pd.options.display.float_format = '{:20,.2f}'.format"
   ]
  },
  {
   "cell_type": "markdown",
   "metadata": {},
   "source": [
    "Define functions for graphs:"
   ]
  },
  {
   "cell_type": "code",
   "execution_count": 151,
   "metadata": {
    "collapsed": true
   },
   "outputs": [],
   "source": [
    "def make_hist(df, column, title=None, xlabel='', pct=False, range=None):\n",
    "    multiplier = 1\n",
    "    if pct == True:\n",
    "        multiplier = 100\n",
    "    fig = plt.figure(figsize=(10,4))\n",
    "    plt.hist(df[column]*multiplier, bins=50, range=range)\n",
    "    plt.ylabel('Count')\n",
    "    plt.xlabel(xlabel if xlabel else '')\n",
    "    plt.title(column if not title else title)"
   ]
  },
  {
   "cell_type": "code",
   "execution_count": 152,
   "metadata": {
    "collapsed": true
   },
   "outputs": [],
   "source": [
    "def make_box(df, xcolumn, title=None, ylabel='', xlabel='', pct=False):\n",
    "    multiplier = 1\n",
    "    if pct == True:\n",
    "        multiplier = 100\n",
    "    fig = plt.figure(figsize=(10,4))\n",
    "    ax = sns.boxplot(x=df[xcolumn]*multiplier, showfliers=False, palette=\"deep\")\n",
    "    ax.set(title=xcolumn if not title else title)\n",
    "    ax.set(xlabel=xcolumn if not xlabel else xlabel )\n",
    "    return ax"
   ]
  },
  {
   "cell_type": "code",
   "execution_count": 153,
   "metadata": {
    "collapsed": true
   },
   "outputs": [],
   "source": [
    "def make_line(df, xcolumn, ycolumn, title=None, ylabel='', xlabel='Date', pct=False):\n",
    "    multiplier = 1\n",
    "    if pct == True:\n",
    "        multiplier = 100\n",
    "    fig = plt.figure(figsize=(10,4))\n",
    "    plt.plot(df[xcolumn], df[ycolumn]*multiplier, linewidth=1)\n",
    "    plt.title(xcolumn if not title else title)\n",
    "    plt.ylabel(ylabel if ylabel else '')\n",
    "    plt.xlabel(xlabel)\n",
    "    plt.xticks(rotation=45)\n",
    "    return plt"
   ]
  },
  {
   "cell_type": "code",
   "execution_count": 154,
   "metadata": {
    "collapsed": false
   },
   "outputs": [],
   "source": [
    "def make_bar(df, xcolumn, ycolumn, title=None, xlabel='', ylabel='', pct=False):\n",
    "    fig = plt.figure(figsize=(10,4))\n",
    "    if pct == True:\n",
    "        df[ycolumn] = df[ycolumn] * 100\n",
    "    ax = df.groupby(xcolumn)[ycolumn].mean().plot(kind = 'bar')\n",
    "    plt.xlabel(xlabel if xlabel else '')\n",
    "    plt.ylabel(ylabel if ylabel else '')\n",
    "    plt.title(xcolumn if not title else title)"
   ]
  },
  {
   "cell_type": "markdown",
   "metadata": {},
   "source": [
    "Define general helper functions:"
   ]
  },
  {
   "cell_type": "code",
   "execution_count": 155,
   "metadata": {
    "collapsed": true
   },
   "outputs": [],
   "source": [
    "def drop_columns(df, columns):\n",
    "    '''Drops a list of columns in a dataframe'''\n",
    "    for c in columns:\n",
    "        df.drop(c, axis = 1, inplace = True)\n",
    "        \n",
    "def get_percent(part, whole):\n",
    "    return round(100 * float(part)/float(whole), 2)\n",
    "\n",
    "def unique_list(l):\n",
    "    '''makes a unique list'''\n",
    "    ulist = []\n",
    "    [ulist.append(x) for x in l if x not in ulist]\n",
    "    return ulist"
   ]
  },
  {
   "cell_type": "markdown",
   "metadata": {},
   "source": [
    "<a id='loaddata'></a>\n",
    "# Load Data\n",
    "[Back to top](#top)"
   ]
  },
  {
   "cell_type": "markdown",
   "metadata": {},
   "source": [
    "### File Descriptions:\n",
    "***sales_history.pkl*** - history by shoe by sale   \n",
    "***shoe_file.json*** - descriptive information by shoe\n"
   ]
  },
  {
   "cell_type": "markdown",
   "metadata": {},
   "source": [
    "<a id='saleshistory'></a>\n",
    "## Load Sales History\n",
    "[Back to top](#top)"
   ]
  },
  {
   "cell_type": "code",
   "execution_count": 156,
   "metadata": {
    "collapsed": false
   },
   "outputs": [
    {
     "name": "stdout",
     "output_type": "stream",
     "text": [
      "203001\n"
     ]
    }
   ],
   "source": [
    "# Open the cleaned sales_history data\n",
    "with open('data/sales_history.pkl', 'rb') as picklefile:\n",
    "    sales_history = pickle.load(picklefile)\n",
    "    \n",
    "original_sales_length = len(sales_history)\n",
    "print original_sales_length"
   ]
  },
  {
   "cell_type": "code",
   "execution_count": 157,
   "metadata": {
    "collapsed": false
   },
   "outputs": [
    {
     "data": {
      "text/html": [
       "<div>\n",
       "<table border=\"1\" class=\"dataframe\">\n",
       "  <thead>\n",
       "    <tr style=\"text-align: right;\">\n",
       "      <th></th>\n",
       "      <th>name</th>\n",
       "      <th>weekday</th>\n",
       "      <th>date_time</th>\n",
       "      <th>shoe_size</th>\n",
       "      <th>sale_price</th>\n",
       "    </tr>\n",
       "    <tr>\n",
       "      <th>real_date</th>\n",
       "      <th></th>\n",
       "      <th></th>\n",
       "      <th></th>\n",
       "      <th></th>\n",
       "      <th></th>\n",
       "    </tr>\n",
       "  </thead>\n",
       "  <tbody>\n",
       "    <tr>\n",
       "      <th>2017-03-11 15:07:00</th>\n",
       "      <td>Jordan 9 Retro OG (2016)</td>\n",
       "      <td>Saturday</td>\n",
       "      <td>March 11, 2017 3:07 PM</td>\n",
       "      <td>11</td>\n",
       "      <td>300</td>\n",
       "    </tr>\n",
       "    <tr>\n",
       "      <th>2017-03-11 13:26:00</th>\n",
       "      <td>Jordan 9 Retro OG (2016)</td>\n",
       "      <td>Saturday</td>\n",
       "      <td>March 11, 2017 1:26 PM</td>\n",
       "      <td>9</td>\n",
       "      <td>300</td>\n",
       "    </tr>\n",
       "  </tbody>\n",
       "</table>\n",
       "</div>"
      ],
      "text/plain": [
       "                                         name   weekday  \\\n",
       "real_date                                                 \n",
       "2017-03-11 15:07:00  Jordan 9 Retro OG (2016)  Saturday   \n",
       "2017-03-11 13:26:00  Jordan 9 Retro OG (2016)  Saturday   \n",
       "\n",
       "                                    date_time shoe_size sale_price  \n",
       "real_date                                                           \n",
       "2017-03-11 15:07:00   March 11, 2017 3:07 PM        11         300  \n",
       "2017-03-11 13:26:00   March 11, 2017 1:26 PM         9         300  "
      ]
     },
     "execution_count": 157,
     "metadata": {},
     "output_type": "execute_result"
    }
   ],
   "source": [
    "sales_history.head(2)"
   ]
  },
  {
   "cell_type": "code",
   "execution_count": 158,
   "metadata": {
    "collapsed": false
   },
   "outputs": [],
   "source": [
    "# Cleanup functions\n",
    "def extract_date_part(df):\n",
    "    df['year'] = df.index.year\n",
    "    df['month'] = df.index.month\n",
    "    df['day'] = df.index.day\n",
    "    df['hour'] = df.index.hour\n",
    "    df['sale_date'] = df.index.date\n",
    "    \n",
    "def price_to_float(df, cols):\n",
    "    '''strips out non-numericals and convert to floats'''\n",
    "    for c in cols:\n",
    "        df[c] = df[c].replace({'\\D': ''}, regex=True)\n",
    "        df[c] = pd.to_numeric(df[c], errors='coerce')\n",
    "        \n",
    "def shoe_brand(x):\n",
    "    \"\"\"get brand of shoe based on line\"\"\"\n",
    "    if x in adidas_list:\n",
    "        x = \"adidas\"\n",
    "    elif x in nike_list:\n",
    "        x = \"nike\"\n",
    "    return x\n",
    "\n",
    "def clean_sizes(x):\n",
    "    \"\"\"convert shoe sizes into floats\"\"\"\n",
    "    if \"K\" in x:\n",
    "        x = 1\n",
    "    elif \"Y\" in x:\n",
    "        x = 1\n",
    "    else:\n",
    "        x = re.sub(r'[a-zA-Z-/]', ' ', x)\n",
    "        x_list = [float(x) for x in x.strip().split()]\n",
    "        x = sum(x_list) / float(len(x_list))\n",
    "        x = round(x, 2)\n",
    "    return x\n",
    "\n",
    "def core_fringe(x):\n",
    "    \"\"\"converts shoe size into 1 for fringe or 0 for core sizing\"\"\"\n",
    "    if x < 7.5:\n",
    "        x = 1\n",
    "    elif x > 14:\n",
    "        x = 1\n",
    "    else:\n",
    "        x = 0\n",
    "    return x\n"
   ]
  },
  {
   "cell_type": "code",
   "execution_count": 159,
   "metadata": {
    "collapsed": true
   },
   "outputs": [],
   "source": [
    "# Maintain lists of lines within shoe brands\n",
    "adidas_list = ['y-3', 'y3', 'adidas','yeezy', 'nmd']\n",
    "nike_list = ['jordan','nike','foamposite','air','kobe','lebron','kd','sf','kyrie','lunar','cavs',\n",
    "                 'pg','lebron','flyknit']\n",
    "other_list = ['reebok', 'new', 'asics','vans','ua','puma','saucony','diadora','timberland']"
   ]
  },
  {
   "cell_type": "code",
   "execution_count": 160,
   "metadata": {
    "collapsed": false
   },
   "outputs": [],
   "source": [
    "# Create a duplicate column for datetime and shoe name\n",
    "sales_history['sale_date_time'] = sales_history.index\n",
    "sales_history['shoe_name'] = sales_history['name']"
   ]
  },
  {
   "cell_type": "code",
   "execution_count": 161,
   "metadata": {
    "collapsed": false
   },
   "outputs": [],
   "source": [
    "# Clean up the sales_history dataframe \n",
    "extract_date_part(sales_history)\n",
    "price_to_float(sales_history, ['sale_price'])\n",
    "drop_columns(sales_history, ['date_time'])\n",
    "\n",
    "# Extract the line from the shoe name and add the brand column\n",
    "sales_history['line'] = sales_history['name'].str.split().str.get(0).str.lower()\n",
    "sales_history['brand'] = sales_history['line'].apply(lambda x: shoe_brand(x))\n",
    "\n",
    "# Add a column for shoe size range\n",
    "sales_history['size_number'] = sales_history['shoe_size'].apply(lambda x: clean_sizes(x))\n",
    "sales_history['shoe_size'] = sales_history['size_number'].apply(lambda x: core_fringe(x))"
   ]
  },
  {
   "cell_type": "code",
   "execution_count": 162,
   "metadata": {
    "collapsed": false
   },
   "outputs": [
    {
     "data": {
      "text/html": [
       "<div>\n",
       "<table border=\"1\" class=\"dataframe\">\n",
       "  <thead>\n",
       "    <tr style=\"text-align: right;\">\n",
       "      <th></th>\n",
       "      <th>name</th>\n",
       "      <th>weekday</th>\n",
       "      <th>shoe_size</th>\n",
       "      <th>sale_price</th>\n",
       "      <th>sale_date_time</th>\n",
       "      <th>shoe_name</th>\n",
       "      <th>year</th>\n",
       "      <th>month</th>\n",
       "      <th>day</th>\n",
       "      <th>hour</th>\n",
       "      <th>sale_date</th>\n",
       "      <th>line</th>\n",
       "      <th>brand</th>\n",
       "      <th>size_number</th>\n",
       "    </tr>\n",
       "    <tr>\n",
       "      <th>real_date</th>\n",
       "      <th></th>\n",
       "      <th></th>\n",
       "      <th></th>\n",
       "      <th></th>\n",
       "      <th></th>\n",
       "      <th></th>\n",
       "      <th></th>\n",
       "      <th></th>\n",
       "      <th></th>\n",
       "      <th></th>\n",
       "      <th></th>\n",
       "      <th></th>\n",
       "      <th></th>\n",
       "      <th></th>\n",
       "    </tr>\n",
       "  </thead>\n",
       "  <tbody>\n",
       "    <tr>\n",
       "      <th>2017-03-11 15:07:00</th>\n",
       "      <td>Jordan 9 Retro OG (2016)</td>\n",
       "      <td>Saturday</td>\n",
       "      <td>0</td>\n",
       "      <td>300</td>\n",
       "      <td>2017-03-11 15:07:00</td>\n",
       "      <td>Jordan 9 Retro OG (2016)</td>\n",
       "      <td>2017</td>\n",
       "      <td>3</td>\n",
       "      <td>11</td>\n",
       "      <td>15</td>\n",
       "      <td>2017-03-11</td>\n",
       "      <td>jordan</td>\n",
       "      <td>nike</td>\n",
       "      <td>11.00</td>\n",
       "    </tr>\n",
       "    <tr>\n",
       "      <th>2017-03-11 13:26:00</th>\n",
       "      <td>Jordan 9 Retro OG (2016)</td>\n",
       "      <td>Saturday</td>\n",
       "      <td>0</td>\n",
       "      <td>300</td>\n",
       "      <td>2017-03-11 13:26:00</td>\n",
       "      <td>Jordan 9 Retro OG (2016)</td>\n",
       "      <td>2017</td>\n",
       "      <td>3</td>\n",
       "      <td>11</td>\n",
       "      <td>13</td>\n",
       "      <td>2017-03-11</td>\n",
       "      <td>jordan</td>\n",
       "      <td>nike</td>\n",
       "      <td>9.00</td>\n",
       "    </tr>\n",
       "  </tbody>\n",
       "</table>\n",
       "</div>"
      ],
      "text/plain": [
       "                                         name   weekday  shoe_size  \\\n",
       "real_date                                                            \n",
       "2017-03-11 15:07:00  Jordan 9 Retro OG (2016)  Saturday          0   \n",
       "2017-03-11 13:26:00  Jordan 9 Retro OG (2016)  Saturday          0   \n",
       "\n",
       "                     sale_price      sale_date_time                 shoe_name  \\\n",
       "real_date                                                                       \n",
       "2017-03-11 15:07:00         300 2017-03-11 15:07:00  Jordan 9 Retro OG (2016)   \n",
       "2017-03-11 13:26:00         300 2017-03-11 13:26:00  Jordan 9 Retro OG (2016)   \n",
       "\n",
       "                     year  month  day  hour   sale_date    line brand  \\\n",
       "real_date                                                               \n",
       "2017-03-11 15:07:00  2017      3   11    15  2017-03-11  jordan  nike   \n",
       "2017-03-11 13:26:00  2017      3   11    13  2017-03-11  jordan  nike   \n",
       "\n",
       "                             size_number  \n",
       "real_date                                 \n",
       "2017-03-11 15:07:00                11.00  \n",
       "2017-03-11 13:26:00                 9.00  "
      ]
     },
     "execution_count": 162,
     "metadata": {},
     "output_type": "execute_result"
    }
   ],
   "source": [
    "sales_history.head(2)"
   ]
  },
  {
   "cell_type": "markdown",
   "metadata": {},
   "source": [
    "<a id='summarytable'></a>\n",
    "## Load Summary Table\n",
    "[Back to top](#top)"
   ]
  },
  {
   "cell_type": "code",
   "execution_count": 163,
   "metadata": {
    "collapsed": false
   },
   "outputs": [],
   "source": [
    "summary = pd.read_json('data/shoe_file.json')"
   ]
  },
  {
   "cell_type": "code",
   "execution_count": 164,
   "metadata": {
    "collapsed": false
   },
   "outputs": [
    {
     "name": "stdout",
     "output_type": "stream",
     "text": [
      "995\n"
     ]
    }
   ],
   "source": [
    "orig_summary_length = len(summary)\n",
    "print orig_summary_length"
   ]
  },
  {
   "cell_type": "code",
   "execution_count": 165,
   "metadata": {
    "collapsed": false
   },
   "outputs": [
    {
     "data": {
      "text/html": [
       "<div>\n",
       "<table border=\"1\" class=\"dataframe\">\n",
       "  <thead>\n",
       "    <tr style=\"text-align: right;\">\n",
       "      <th></th>\n",
       "      <th>colorway</th>\n",
       "      <th>highest_bid</th>\n",
       "      <th>image_url</th>\n",
       "      <th>lowest_ask</th>\n",
       "      <th>name</th>\n",
       "      <th>num_asks</th>\n",
       "      <th>num_bids</th>\n",
       "      <th>num_sales</th>\n",
       "      <th>original retail</th>\n",
       "      <th>release date</th>\n",
       "      <th>style</th>\n",
       "    </tr>\n",
       "  </thead>\n",
       "  <tbody>\n",
       "    <tr>\n",
       "      <th>0</th>\n",
       "      <td>black/dark concord-white</td>\n",
       "      <td>$285</td>\n",
       "      <td>https://stockx.imgix.net/Air-Jordan-11-Retro-S...</td>\n",
       "      <td>$270</td>\n",
       "      <td>Jordan 11 Retro\\nSpace Jam (2016)</td>\n",
       "      <td>280</td>\n",
       "      <td>81</td>\n",
       "      <td># OF SALES: 360</td>\n",
       "      <td>$220</td>\n",
       "      <td>12.10.16</td>\n",
       "      <td>378037-003</td>\n",
       "    </tr>\n",
       "    <tr>\n",
       "      <th>1</th>\n",
       "      <td>black/varsity red-varsity royal</td>\n",
       "      <td>$273</td>\n",
       "      <td>https://stockx.imgix.net/Air-Jordan-1-Retro-To...</td>\n",
       "      <td>$200</td>\n",
       "      <td>Jordan 1 Retro\\nTop 3</td>\n",
       "      <td>101</td>\n",
       "      <td>115</td>\n",
       "      <td># OF SALES: 40</td>\n",
       "      <td>$160</td>\n",
       "      <td>11.28.16</td>\n",
       "      <td>555088-026</td>\n",
       "    </tr>\n",
       "  </tbody>\n",
       "</table>\n",
       "</div>"
      ],
      "text/plain": [
       "                           colorway highest_bid  \\\n",
       "0          black/dark concord-white        $285   \n",
       "1   black/varsity red-varsity royal        $273   \n",
       "\n",
       "                                           image_url lowest_ask  \\\n",
       "0  https://stockx.imgix.net/Air-Jordan-11-Retro-S...       $270   \n",
       "1  https://stockx.imgix.net/Air-Jordan-1-Retro-To...       $200   \n",
       "\n",
       "                                name  num_asks  num_bids        num_sales  \\\n",
       "0  Jordan 11 Retro\\nSpace Jam (2016)       280        81  # OF SALES: 360   \n",
       "1              Jordan 1 Retro\\nTop 3       101       115   # OF SALES: 40   \n",
       "\n",
       "  original retail release date        style  \n",
       "0            $220     12.10.16   378037-003  \n",
       "1            $160     11.28.16   555088-026  "
      ]
     },
     "execution_count": 165,
     "metadata": {},
     "output_type": "execute_result"
    }
   ],
   "source": [
    "summary.head(2)"
   ]
  },
  {
   "cell_type": "code",
   "execution_count": 166,
   "metadata": {
    "collapsed": false
   },
   "outputs": [],
   "source": [
    "# Cleanup functions for the summary table\n",
    "def consolidate_colors(x):\n",
    "    '''Simplifies shoe colors into basic colors(black, white, etc) or other'''\n",
    "    things_to_replace = [\"/\",\"-\",\"core\",\"true\",\"pirate\",\"fierce\",\"turtledove\",\"varsity\",\n",
    "                         \"fire\",\"royal\",\"gym\",\"wolf\",\"infared\",\"23\",\"metallic\",\"bone\",\n",
    "                         \"dark\",\"university\",\"concord\",\"anthracite\",\"coin\",\"cool\",\"cement\",\"   \"]\n",
    "    for thing in things_to_replace:\n",
    "        x = x.replace(thing,\" \")\n",
    "        x = x.strip()\n",
    "        \n",
    "    x = ' '.join(sorted(unique_list(x.split())))\n",
    "    \n",
    "    if x == \"black white\":\n",
    "        x = \"basic\"\n",
    "    elif x == \"black\":\n",
    "        x = \"basic\"\n",
    "    elif x == \"white\":\n",
    "        x = \"basic\"\n",
    "    else:\n",
    "        x = \"other\"\n",
    "    \n",
    "    return x"
   ]
  },
  {
   "cell_type": "code",
   "execution_count": 167,
   "metadata": {
    "collapsed": true
   },
   "outputs": [],
   "source": [
    "# Rename columns\n",
    "summary.rename(\n",
    "    columns={'release date':'release_date', 'original retail':'original_retail','style':'style_code'}, inplace=True)"
   ]
  },
  {
   "cell_type": "code",
   "execution_count": 168,
   "metadata": {
    "collapsed": false
   },
   "outputs": [],
   "source": [
    "# Replace string values in price columns\n",
    "price_to_float(summary,['num_sales', 'highest_bid', 'lowest_ask', 'original_retail'])\n",
    "\n",
    "# Convert release date to datetime format    \n",
    "summary = summary[~summary.release_date.str.contains(\"n/a\")]\n",
    "summary['release_date'] = pd.to_datetime(summary['release_date'],  format=' %m.%d.%y')\n",
    "\n",
    "# Remove newline from the name column\n",
    "summary['name'] = summary.name.str.replace(\"\\n\", \" \")\n",
    "\n",
    "# Add a simplified color column for use in later modeling\n",
    "summary['main_color'] = summary['colorway'].apply(lambda x: consolidate_colors(x))\n",
    "\n",
    "# Drop any duplicates across the whole dataframe\n",
    "summary = summary.drop_duplicates()"
   ]
  },
  {
   "cell_type": "code",
   "execution_count": 169,
   "metadata": {
    "collapsed": true
   },
   "outputs": [],
   "source": [
    "# Pickle list for use in the instagram scraper\n",
    "unique_names = [name.encode('ascii','ignore') for name in summary.name.unique()]\n",
    "unique_names = sorted(unique_names)\n",
    "\n",
    "with open('data/shoe_name_list.pkl', 'wb') as picklefile:\n",
    "    pickle.dump(unique_names, picklefile)"
   ]
  },
  {
   "cell_type": "code",
   "execution_count": 170,
   "metadata": {
    "collapsed": false
   },
   "outputs": [
    {
     "data": {
      "text/html": [
       "<div>\n",
       "<table border=\"1\" class=\"dataframe\">\n",
       "  <thead>\n",
       "    <tr style=\"text-align: right;\">\n",
       "      <th></th>\n",
       "      <th>name</th>\n",
       "      <th>weekday</th>\n",
       "      <th>shoe_size</th>\n",
       "      <th>sale_price</th>\n",
       "      <th>sale_date_time</th>\n",
       "      <th>shoe_name</th>\n",
       "      <th>year</th>\n",
       "      <th>month</th>\n",
       "      <th>day</th>\n",
       "      <th>hour</th>\n",
       "      <th>sale_date</th>\n",
       "      <th>line</th>\n",
       "      <th>brand</th>\n",
       "      <th>size_number</th>\n",
       "    </tr>\n",
       "    <tr>\n",
       "      <th>real_date</th>\n",
       "      <th></th>\n",
       "      <th></th>\n",
       "      <th></th>\n",
       "      <th></th>\n",
       "      <th></th>\n",
       "      <th></th>\n",
       "      <th></th>\n",
       "      <th></th>\n",
       "      <th></th>\n",
       "      <th></th>\n",
       "      <th></th>\n",
       "      <th></th>\n",
       "      <th></th>\n",
       "      <th></th>\n",
       "    </tr>\n",
       "  </thead>\n",
       "  <tbody>\n",
       "    <tr>\n",
       "      <th>2017-03-11 15:07:00</th>\n",
       "      <td>Jordan 9 Retro OG (2016)</td>\n",
       "      <td>Saturday</td>\n",
       "      <td>0</td>\n",
       "      <td>300</td>\n",
       "      <td>2017-03-11 15:07:00</td>\n",
       "      <td>Jordan 9 Retro OG (2016)</td>\n",
       "      <td>2017</td>\n",
       "      <td>3</td>\n",
       "      <td>11</td>\n",
       "      <td>15</td>\n",
       "      <td>2017-03-11</td>\n",
       "      <td>jordan</td>\n",
       "      <td>nike</td>\n",
       "      <td>11.00</td>\n",
       "    </tr>\n",
       "    <tr>\n",
       "      <th>2017-03-11 13:26:00</th>\n",
       "      <td>Jordan 9 Retro OG (2016)</td>\n",
       "      <td>Saturday</td>\n",
       "      <td>0</td>\n",
       "      <td>300</td>\n",
       "      <td>2017-03-11 13:26:00</td>\n",
       "      <td>Jordan 9 Retro OG (2016)</td>\n",
       "      <td>2017</td>\n",
       "      <td>3</td>\n",
       "      <td>11</td>\n",
       "      <td>13</td>\n",
       "      <td>2017-03-11</td>\n",
       "      <td>jordan</td>\n",
       "      <td>nike</td>\n",
       "      <td>9.00</td>\n",
       "    </tr>\n",
       "  </tbody>\n",
       "</table>\n",
       "</div>"
      ],
      "text/plain": [
       "                                         name   weekday  shoe_size  \\\n",
       "real_date                                                            \n",
       "2017-03-11 15:07:00  Jordan 9 Retro OG (2016)  Saturday          0   \n",
       "2017-03-11 13:26:00  Jordan 9 Retro OG (2016)  Saturday          0   \n",
       "\n",
       "                     sale_price      sale_date_time                 shoe_name  \\\n",
       "real_date                                                                       \n",
       "2017-03-11 15:07:00         300 2017-03-11 15:07:00  Jordan 9 Retro OG (2016)   \n",
       "2017-03-11 13:26:00         300 2017-03-11 13:26:00  Jordan 9 Retro OG (2016)   \n",
       "\n",
       "                     year  month  day  hour   sale_date    line brand  \\\n",
       "real_date                                                               \n",
       "2017-03-11 15:07:00  2017      3   11    15  2017-03-11  jordan  nike   \n",
       "2017-03-11 13:26:00  2017      3   11    13  2017-03-11  jordan  nike   \n",
       "\n",
       "                             size_number  \n",
       "real_date                                 \n",
       "2017-03-11 15:07:00                11.00  \n",
       "2017-03-11 13:26:00                 9.00  "
      ]
     },
     "execution_count": 170,
     "metadata": {},
     "output_type": "execute_result"
    }
   ],
   "source": [
    "sales_history.head(2)"
   ]
  },
  {
   "cell_type": "markdown",
   "metadata": {},
   "source": [
    "<a id='merge'></a>\n",
    "## Merge\n",
    "[Back to top](#top)"
   ]
  },
  {
   "cell_type": "code",
   "execution_count": 171,
   "metadata": {
    "collapsed": false
   },
   "outputs": [],
   "source": [
    "# Merge the summary and sales_history dataframes\n",
    "sales_history = sales_history.merge(summary, on='name', sort=False, how='inner')\n",
    "\n",
    "# Sort the new merged table by shoe name\n",
    "sales_history.sort_values(['name'], inplace=True)"
   ]
  },
  {
   "cell_type": "code",
   "execution_count": 172,
   "metadata": {
    "collapsed": false
   },
   "outputs": [
    {
     "data": {
      "text/html": [
       "<div>\n",
       "<table border=\"1\" class=\"dataframe\">\n",
       "  <thead>\n",
       "    <tr style=\"text-align: right;\">\n",
       "      <th></th>\n",
       "      <th>name</th>\n",
       "      <th>weekday</th>\n",
       "      <th>shoe_size</th>\n",
       "      <th>sale_price</th>\n",
       "      <th>sale_date_time</th>\n",
       "      <th>shoe_name</th>\n",
       "      <th>year</th>\n",
       "      <th>month</th>\n",
       "      <th>day</th>\n",
       "      <th>hour</th>\n",
       "      <th>sale_date</th>\n",
       "      <th>line</th>\n",
       "      <th>brand</th>\n",
       "      <th>size_number</th>\n",
       "      <th>colorway</th>\n",
       "      <th>highest_bid</th>\n",
       "      <th>image_url</th>\n",
       "      <th>lowest_ask</th>\n",
       "      <th>num_asks</th>\n",
       "      <th>num_bids</th>\n",
       "      <th>num_sales</th>\n",
       "      <th>original_retail</th>\n",
       "      <th>release_date</th>\n",
       "      <th>style_code</th>\n",
       "      <th>main_color</th>\n",
       "    </tr>\n",
       "  </thead>\n",
       "  <tbody>\n",
       "    <tr>\n",
       "      <th>90233</th>\n",
       "      <td>Adidas AW Run Alexander Wang Black</td>\n",
       "      <td>Wednesday</td>\n",
       "      <td>0</td>\n",
       "      <td>325</td>\n",
       "      <td>2017-03-15 16:05:00</td>\n",
       "      <td>Adidas AW Run Alexander Wang Black</td>\n",
       "      <td>2017</td>\n",
       "      <td>3</td>\n",
       "      <td>15</td>\n",
       "      <td>16</td>\n",
       "      <td>2017-03-15</td>\n",
       "      <td>adidas</td>\n",
       "      <td>adidas</td>\n",
       "      <td>9.00</td>\n",
       "      <td>black/white</td>\n",
       "      <td>380.00</td>\n",
       "      <td>https://stockx.imgix.net/Adidas-AW-Run-Alexand...</td>\n",
       "      <td>280.00</td>\n",
       "      <td>99</td>\n",
       "      <td>30</td>\n",
       "      <td>29</td>\n",
       "      <td>230.00</td>\n",
       "      <td>2017-03-04</td>\n",
       "      <td>cm7825</td>\n",
       "      <td>basic</td>\n",
       "    </tr>\n",
       "    <tr>\n",
       "      <th>90243</th>\n",
       "      <td>Adidas AW Run Alexander Wang Black</td>\n",
       "      <td>Monday</td>\n",
       "      <td>0</td>\n",
       "      <td>350</td>\n",
       "      <td>2017-03-13 11:41:00</td>\n",
       "      <td>Adidas AW Run Alexander Wang Black</td>\n",
       "      <td>2017</td>\n",
       "      <td>3</td>\n",
       "      <td>13</td>\n",
       "      <td>11</td>\n",
       "      <td>2017-03-13</td>\n",
       "      <td>adidas</td>\n",
       "      <td>adidas</td>\n",
       "      <td>12.00</td>\n",
       "      <td>black/white</td>\n",
       "      <td>380.00</td>\n",
       "      <td>https://stockx.imgix.net/Adidas-AW-Run-Alexand...</td>\n",
       "      <td>280.00</td>\n",
       "      <td>99</td>\n",
       "      <td>30</td>\n",
       "      <td>29</td>\n",
       "      <td>230.00</td>\n",
       "      <td>2017-03-04</td>\n",
       "      <td>cm7825</td>\n",
       "      <td>basic</td>\n",
       "    </tr>\n",
       "  </tbody>\n",
       "</table>\n",
       "</div>"
      ],
      "text/plain": [
       "                                     name    weekday  shoe_size  sale_price  \\\n",
       "90233  Adidas AW Run Alexander Wang Black  Wednesday          0         325   \n",
       "90243  Adidas AW Run Alexander Wang Black     Monday          0         350   \n",
       "\n",
       "           sale_date_time                           shoe_name  year  month  \\\n",
       "90233 2017-03-15 16:05:00  Adidas AW Run Alexander Wang Black  2017      3   \n",
       "90243 2017-03-13 11:41:00  Adidas AW Run Alexander Wang Black  2017      3   \n",
       "\n",
       "       day  hour   sale_date    line   brand          size_number  \\\n",
       "90233   15    16  2017-03-15  adidas  adidas                 9.00   \n",
       "90243   13    11  2017-03-13  adidas  adidas                12.00   \n",
       "\n",
       "           colorway          highest_bid  \\\n",
       "90233   black/white               380.00   \n",
       "90243   black/white               380.00   \n",
       "\n",
       "                                               image_url           lowest_ask  \\\n",
       "90233  https://stockx.imgix.net/Adidas-AW-Run-Alexand...               280.00   \n",
       "90243  https://stockx.imgix.net/Adidas-AW-Run-Alexand...               280.00   \n",
       "\n",
       "       num_asks  num_bids  num_sales      original_retail release_date  \\\n",
       "90233        99        30         29               230.00   2017-03-04   \n",
       "90243        99        30         29               230.00   2017-03-04   \n",
       "\n",
       "      style_code main_color  \n",
       "90233     cm7825      basic  \n",
       "90243     cm7825      basic  "
      ]
     },
     "execution_count": 172,
     "metadata": {},
     "output_type": "execute_result"
    }
   ],
   "source": [
    "sales_history.head(2)"
   ]
  },
  {
   "cell_type": "code",
   "execution_count": 173,
   "metadata": {
    "collapsed": false
   },
   "outputs": [],
   "source": [
    "# Drop unnecessary columns:\n",
    "drop_list = ['lowest_ask','num_asks','num_bids','num_sales','highest_bid']\n",
    "\n",
    "drop_columns(sales_history, drop_list)"
   ]
  },
  {
   "cell_type": "code",
   "execution_count": 174,
   "metadata": {
    "collapsed": false
   },
   "outputs": [
    {
     "data": {
      "text/html": [
       "<div>\n",
       "<table border=\"1\" class=\"dataframe\">\n",
       "  <thead>\n",
       "    <tr style=\"text-align: right;\">\n",
       "      <th></th>\n",
       "      <th>name</th>\n",
       "      <th>weekday</th>\n",
       "      <th>shoe_size</th>\n",
       "      <th>sale_price</th>\n",
       "      <th>sale_date_time</th>\n",
       "      <th>shoe_name</th>\n",
       "      <th>year</th>\n",
       "      <th>month</th>\n",
       "      <th>day</th>\n",
       "      <th>hour</th>\n",
       "      <th>sale_date</th>\n",
       "      <th>line</th>\n",
       "      <th>brand</th>\n",
       "      <th>size_number</th>\n",
       "      <th>colorway</th>\n",
       "      <th>image_url</th>\n",
       "      <th>original_retail</th>\n",
       "      <th>release_date</th>\n",
       "      <th>style_code</th>\n",
       "      <th>main_color</th>\n",
       "    </tr>\n",
       "  </thead>\n",
       "  <tbody>\n",
       "    <tr>\n",
       "      <th>90233</th>\n",
       "      <td>Adidas AW Run Alexander Wang Black</td>\n",
       "      <td>Wednesday</td>\n",
       "      <td>0</td>\n",
       "      <td>325</td>\n",
       "      <td>2017-03-15 16:05:00</td>\n",
       "      <td>Adidas AW Run Alexander Wang Black</td>\n",
       "      <td>2017</td>\n",
       "      <td>3</td>\n",
       "      <td>15</td>\n",
       "      <td>16</td>\n",
       "      <td>2017-03-15</td>\n",
       "      <td>adidas</td>\n",
       "      <td>adidas</td>\n",
       "      <td>9.00</td>\n",
       "      <td>black/white</td>\n",
       "      <td>https://stockx.imgix.net/Adidas-AW-Run-Alexand...</td>\n",
       "      <td>230.00</td>\n",
       "      <td>2017-03-04</td>\n",
       "      <td>cm7825</td>\n",
       "      <td>basic</td>\n",
       "    </tr>\n",
       "    <tr>\n",
       "      <th>90243</th>\n",
       "      <td>Adidas AW Run Alexander Wang Black</td>\n",
       "      <td>Monday</td>\n",
       "      <td>0</td>\n",
       "      <td>350</td>\n",
       "      <td>2017-03-13 11:41:00</td>\n",
       "      <td>Adidas AW Run Alexander Wang Black</td>\n",
       "      <td>2017</td>\n",
       "      <td>3</td>\n",
       "      <td>13</td>\n",
       "      <td>11</td>\n",
       "      <td>2017-03-13</td>\n",
       "      <td>adidas</td>\n",
       "      <td>adidas</td>\n",
       "      <td>12.00</td>\n",
       "      <td>black/white</td>\n",
       "      <td>https://stockx.imgix.net/Adidas-AW-Run-Alexand...</td>\n",
       "      <td>230.00</td>\n",
       "      <td>2017-03-04</td>\n",
       "      <td>cm7825</td>\n",
       "      <td>basic</td>\n",
       "    </tr>\n",
       "    <tr>\n",
       "      <th>90244</th>\n",
       "      <td>Adidas AW Run Alexander Wang Black</td>\n",
       "      <td>Monday</td>\n",
       "      <td>0</td>\n",
       "      <td>315</td>\n",
       "      <td>2017-03-13 11:12:00</td>\n",
       "      <td>Adidas AW Run Alexander Wang Black</td>\n",
       "      <td>2017</td>\n",
       "      <td>3</td>\n",
       "      <td>13</td>\n",
       "      <td>11</td>\n",
       "      <td>2017-03-13</td>\n",
       "      <td>adidas</td>\n",
       "      <td>adidas</td>\n",
       "      <td>12.50</td>\n",
       "      <td>black/white</td>\n",
       "      <td>https://stockx.imgix.net/Adidas-AW-Run-Alexand...</td>\n",
       "      <td>230.00</td>\n",
       "      <td>2017-03-04</td>\n",
       "      <td>cm7825</td>\n",
       "      <td>basic</td>\n",
       "    </tr>\n",
       "    <tr>\n",
       "      <th>90245</th>\n",
       "      <td>Adidas AW Run Alexander Wang Black</td>\n",
       "      <td>Monday</td>\n",
       "      <td>0</td>\n",
       "      <td>325</td>\n",
       "      <td>2017-03-13 10:41:00</td>\n",
       "      <td>Adidas AW Run Alexander Wang Black</td>\n",
       "      <td>2017</td>\n",
       "      <td>3</td>\n",
       "      <td>13</td>\n",
       "      <td>10</td>\n",
       "      <td>2017-03-13</td>\n",
       "      <td>adidas</td>\n",
       "      <td>adidas</td>\n",
       "      <td>9.50</td>\n",
       "      <td>black/white</td>\n",
       "      <td>https://stockx.imgix.net/Adidas-AW-Run-Alexand...</td>\n",
       "      <td>230.00</td>\n",
       "      <td>2017-03-04</td>\n",
       "      <td>cm7825</td>\n",
       "      <td>basic</td>\n",
       "    </tr>\n",
       "    <tr>\n",
       "      <th>90246</th>\n",
       "      <td>Adidas AW Run Alexander Wang Black</td>\n",
       "      <td>Monday</td>\n",
       "      <td>0</td>\n",
       "      <td>275</td>\n",
       "      <td>2017-03-13 09:14:00</td>\n",
       "      <td>Adidas AW Run Alexander Wang Black</td>\n",
       "      <td>2017</td>\n",
       "      <td>3</td>\n",
       "      <td>13</td>\n",
       "      <td>9</td>\n",
       "      <td>2017-03-13</td>\n",
       "      <td>adidas</td>\n",
       "      <td>adidas</td>\n",
       "      <td>11.00</td>\n",
       "      <td>black/white</td>\n",
       "      <td>https://stockx.imgix.net/Adidas-AW-Run-Alexand...</td>\n",
       "      <td>230.00</td>\n",
       "      <td>2017-03-04</td>\n",
       "      <td>cm7825</td>\n",
       "      <td>basic</td>\n",
       "    </tr>\n",
       "  </tbody>\n",
       "</table>\n",
       "</div>"
      ],
      "text/plain": [
       "                                     name    weekday  shoe_size  sale_price  \\\n",
       "90233  Adidas AW Run Alexander Wang Black  Wednesday          0         325   \n",
       "90243  Adidas AW Run Alexander Wang Black     Monday          0         350   \n",
       "90244  Adidas AW Run Alexander Wang Black     Monday          0         315   \n",
       "90245  Adidas AW Run Alexander Wang Black     Monday          0         325   \n",
       "90246  Adidas AW Run Alexander Wang Black     Monday          0         275   \n",
       "\n",
       "           sale_date_time                           shoe_name  year  month  \\\n",
       "90233 2017-03-15 16:05:00  Adidas AW Run Alexander Wang Black  2017      3   \n",
       "90243 2017-03-13 11:41:00  Adidas AW Run Alexander Wang Black  2017      3   \n",
       "90244 2017-03-13 11:12:00  Adidas AW Run Alexander Wang Black  2017      3   \n",
       "90245 2017-03-13 10:41:00  Adidas AW Run Alexander Wang Black  2017      3   \n",
       "90246 2017-03-13 09:14:00  Adidas AW Run Alexander Wang Black  2017      3   \n",
       "\n",
       "       day  hour   sale_date    line   brand          size_number  \\\n",
       "90233   15    16  2017-03-15  adidas  adidas                 9.00   \n",
       "90243   13    11  2017-03-13  adidas  adidas                12.00   \n",
       "90244   13    11  2017-03-13  adidas  adidas                12.50   \n",
       "90245   13    10  2017-03-13  adidas  adidas                 9.50   \n",
       "90246   13     9  2017-03-13  adidas  adidas                11.00   \n",
       "\n",
       "           colorway                                          image_url  \\\n",
       "90233   black/white  https://stockx.imgix.net/Adidas-AW-Run-Alexand...   \n",
       "90243   black/white  https://stockx.imgix.net/Adidas-AW-Run-Alexand...   \n",
       "90244   black/white  https://stockx.imgix.net/Adidas-AW-Run-Alexand...   \n",
       "90245   black/white  https://stockx.imgix.net/Adidas-AW-Run-Alexand...   \n",
       "90246   black/white  https://stockx.imgix.net/Adidas-AW-Run-Alexand...   \n",
       "\n",
       "           original_retail release_date style_code main_color  \n",
       "90233               230.00   2017-03-04     cm7825      basic  \n",
       "90243               230.00   2017-03-04     cm7825      basic  \n",
       "90244               230.00   2017-03-04     cm7825      basic  \n",
       "90245               230.00   2017-03-04     cm7825      basic  \n",
       "90246               230.00   2017-03-04     cm7825      basic  "
      ]
     },
     "execution_count": 174,
     "metadata": {},
     "output_type": "execute_result"
    }
   ],
   "source": [
    "sales_history.head()"
   ]
  },
  {
   "cell_type": "markdown",
   "metadata": {},
   "source": [
    "<a id='explore'></a>\n",
    "# Exploration\n",
    "[Back to top](#top)"
   ]
  },
  {
   "cell_type": "code",
   "execution_count": 175,
   "metadata": {
    "collapsed": false
   },
   "outputs": [
    {
     "data": {
      "image/png": "[encoded data removed]",
      "text/plain": [
       "<matplotlib.figure.Figure at 0x132fc0290>"
      ]
     },
     "metadata": {},
     "output_type": "display_data"
    }
   ],
   "source": [
    "make_bar(sales_history, 'month', 'sale_price', title=\"Avg. Sale Price by Month\", \n",
    "         xlabel=\"Month\", ylabel=\"Avg. Sale Price ($)\")"
   ]
  },
  {
   "cell_type": "code",
   "execution_count": 176,
   "metadata": {
    "collapsed": false
   },
   "outputs": [
    {
     "data": {
      "image/png": "[encoded data removed]",
      "text/plain": [
       "<matplotlib.figure.Figure at 0x131cff2d0>"
      ]
     },
     "metadata": {},
     "output_type": "display_data"
    }
   ],
   "source": [
    "make_bar(sales_history, 'size_number', 'sale_price', title=\"Price by Shoe Size\", xlabel=\"Size\", \n",
    "         ylabel=\"Avg. Sale Price ($)\")"
   ]
  },
  {
   "cell_type": "code",
   "execution_count": 177,
   "metadata": {
    "collapsed": false
   },
   "outputs": [
    {
     "data": {
      "image/png": "[encoded data removed]",
      "text/plain": [
       "<matplotlib.figure.Figure at 0x13ce74ed0>"
      ]
     },
     "metadata": {},
     "output_type": "display_data"
    }
   ],
   "source": [
    "make_hist(sales_history, 'sale_price', range=[0,2000], title='Count of Sale Price', xlabel=\"Price ($)\")"
   ]
  },
  {
   "cell_type": "markdown",
   "metadata": {},
   "source": [
    "<a id='export'></a>\n",
    "# Export\n",
    "[Back to top](#top)"
   ]
  },
  {
   "cell_type": "markdown",
   "metadata": {},
   "source": [
    "Created a few tables below for the web app to pull from."
   ]
  },
  {
   "cell_type": "code",
   "execution_count": 178,
   "metadata": {
    "collapsed": true
   },
   "outputs": [],
   "source": [
    "with open('data/final_sales_history.pkl', 'wb') as picklefile:\n",
    "    pickle.dump(sales_history, picklefile)"
   ]
  },
  {
   "cell_type": "markdown",
   "metadata": {},
   "source": [
    "<a id='features'></a>\n",
    "# Feature Engineering\n",
    "[Back to top](#top)"
   ]
  },
  {
   "cell_type": "code",
   "execution_count": 179,
   "metadata": {
    "collapsed": true
   },
   "outputs": [],
   "source": [
    "## Add a num_sales (frequency) column\n",
    "sales_history['num_sales'] = sales_history.groupby('shoe_name')['shoe_name'].transform('count')"
   ]
  },
  {
   "cell_type": "code",
   "execution_count": 180,
   "metadata": {
    "collapsed": false
   },
   "outputs": [
    {
     "name": "stdout",
     "output_type": "stream",
     "text": [
      "175844\n",
      "171396\n"
     ]
    }
   ],
   "source": [
    "## Limit everything below this to shoes with over 50 sales recorded\n",
    "print(len(sales_history))\n",
    "sales_history = sales_history[sales_history.num_sales > 50]\n",
    "print(len(sales_history))"
   ]
  },
  {
   "cell_type": "code",
   "execution_count": 181,
   "metadata": {
    "collapsed": true
   },
   "outputs": [],
   "source": [
    "# Aggregate to sales by day\n",
    "shoes = sales_history[['name', 'sale_date', 'sale_price']].groupby(['name', 'sale_date'])\n",
    "shoes = shoes.aggregate(['mean', 'count']).reset_index()\n",
    "\n",
    "# Collapse the header\n",
    "shoes.columns = shoes.columns.droplevel(0)\n",
    "\n",
    "# Convert groupby object to dataframe & name columns\n",
    "shoes = pd.DataFrame(shoes)\n",
    "shoes.columns = ['name', 'sale_date', 'sale_price', 'volume']\n",
    "sales_history = sales_history.reset_index()\n",
    "\n",
    "# add back in the other information about the shoe\n",
    "more_info = (sales_history[['name', 'main_color', 'line', 'brand', 'style_code', 'image_url',\n",
    "                           'release_date', 'original_retail', 'colorway']]\n",
    "             .drop_duplicates())\n",
    "\n",
    "shoes = shoes.merge(more_info, on = 'name')"
   ]
  },
  {
   "cell_type": "code",
   "execution_count": 182,
   "metadata": {
    "collapsed": false
   },
   "outputs": [],
   "source": [
    "# Take the log of the sale price\n",
    "shoes['log_sale_price'] = np.log(shoes.sale_price)"
   ]
  },
  {
   "cell_type": "code",
   "execution_count": 183,
   "metadata": {
    "collapsed": false
   },
   "outputs": [
    {
     "data": {
      "text/html": [
       "<div>\n",
       "<table border=\"1\" class=\"dataframe\">\n",
       "  <thead>\n",
       "    <tr style=\"text-align: right;\">\n",
       "      <th></th>\n",
       "      <th>name</th>\n",
       "      <th>sale_date</th>\n",
       "      <th>sale_price</th>\n",
       "      <th>volume</th>\n",
       "      <th>main_color</th>\n",
       "      <th>line</th>\n",
       "      <th>brand</th>\n",
       "      <th>style_code</th>\n",
       "      <th>image_url</th>\n",
       "      <th>release_date</th>\n",
       "      <th>original_retail</th>\n",
       "      <th>colorway</th>\n",
       "      <th>log_sale_price</th>\n",
       "    </tr>\n",
       "  </thead>\n",
       "  <tbody>\n",
       "    <tr>\n",
       "      <th>36833</th>\n",
       "      <td>Jordan 12 Retro Gym Red</td>\n",
       "      <td>2017-01-03</td>\n",
       "      <td>263.00</td>\n",
       "      <td>3</td>\n",
       "      <td>other</td>\n",
       "      <td>jordan</td>\n",
       "      <td>nike</td>\n",
       "      <td>130690-600</td>\n",
       "      <td>https://stockx.imgix.net/Air-Jordan-12-Retro-G...</td>\n",
       "      <td>2016-07-02</td>\n",
       "      <td>190.00</td>\n",
       "      <td>gym red/black-white</td>\n",
       "      <td>5.57</td>\n",
       "    </tr>\n",
       "    <tr>\n",
       "      <th>11986</th>\n",
       "      <td>Air Force 1 High Wheat 2015</td>\n",
       "      <td>2016-04-18</td>\n",
       "      <td>222.00</td>\n",
       "      <td>2</td>\n",
       "      <td>other</td>\n",
       "      <td>air</td>\n",
       "      <td>nike</td>\n",
       "      <td>806403-200</td>\n",
       "      <td>https://stockx.imgix.net/Nike-Air-Force-1-High...</td>\n",
       "      <td>2015-11-07</td>\n",
       "      <td>140.00</td>\n",
       "      <td>flax/flax-outdoor green</td>\n",
       "      <td>5.40</td>\n",
       "    </tr>\n",
       "    <tr>\n",
       "      <th>22778</th>\n",
       "      <td>Jordan 1 Retro Black Gum</td>\n",
       "      <td>2015-06-21</td>\n",
       "      <td>180.00</td>\n",
       "      <td>2</td>\n",
       "      <td>other</td>\n",
       "      <td>jordan</td>\n",
       "      <td>nike</td>\n",
       "      <td>555088-020</td>\n",
       "      <td>https://stockx.imgix.net/Air-Jordan-1-Retro-Bl...</td>\n",
       "      <td>2014-12-06</td>\n",
       "      <td>140.00</td>\n",
       "      <td>black/black-gum</td>\n",
       "      <td>5.19</td>\n",
       "    </tr>\n",
       "    <tr>\n",
       "      <th>55614</th>\n",
       "      <td>Jordan 5 Retro Supreme Black</td>\n",
       "      <td>2017-02-25</td>\n",
       "      <td>600.00</td>\n",
       "      <td>1</td>\n",
       "      <td>other</td>\n",
       "      <td>jordan</td>\n",
       "      <td>nike</td>\n",
       "      <td>824371-001</td>\n",
       "      <td>https://stockx.imgix.net/Air-Jordan-5-Retro-Su...</td>\n",
       "      <td>2015-10-16</td>\n",
       "      <td>198.00</td>\n",
       "      <td>black/fire red</td>\n",
       "      <td>6.40</td>\n",
       "    </tr>\n",
       "    <tr>\n",
       "      <th>22785</th>\n",
       "      <td>Jordan 1 Retro Black Gum</td>\n",
       "      <td>2015-06-29</td>\n",
       "      <td>165.00</td>\n",
       "      <td>2</td>\n",
       "      <td>other</td>\n",
       "      <td>jordan</td>\n",
       "      <td>nike</td>\n",
       "      <td>555088-020</td>\n",
       "      <td>https://stockx.imgix.net/Air-Jordan-1-Retro-Bl...</td>\n",
       "      <td>2014-12-06</td>\n",
       "      <td>140.00</td>\n",
       "      <td>black/black-gum</td>\n",
       "      <td>5.11</td>\n",
       "    </tr>\n",
       "  </tbody>\n",
       "</table>\n",
       "</div>"
      ],
      "text/plain": [
       "                               name   sale_date           sale_price  volume  \\\n",
       "36833       Jordan 12 Retro Gym Red  2017-01-03               263.00       3   \n",
       "11986   Air Force 1 High Wheat 2015  2016-04-18               222.00       2   \n",
       "22778      Jordan 1 Retro Black Gum  2015-06-21               180.00       2   \n",
       "55614  Jordan 5 Retro Supreme Black  2017-02-25               600.00       1   \n",
       "22785      Jordan 1 Retro Black Gum  2015-06-29               165.00       2   \n",
       "\n",
       "      main_color    line brand   style_code  \\\n",
       "36833      other  jordan  nike   130690-600   \n",
       "11986      other     air  nike   806403-200   \n",
       "22778      other  jordan  nike   555088-020   \n",
       "55614      other  jordan  nike   824371-001   \n",
       "22785      other  jordan  nike   555088-020   \n",
       "\n",
       "                                               image_url release_date  \\\n",
       "36833  https://stockx.imgix.net/Air-Jordan-12-Retro-G...   2016-07-02   \n",
       "11986  https://stockx.imgix.net/Nike-Air-Force-1-High...   2015-11-07   \n",
       "22778  https://stockx.imgix.net/Air-Jordan-1-Retro-Bl...   2014-12-06   \n",
       "55614  https://stockx.imgix.net/Air-Jordan-5-Retro-Su...   2015-10-16   \n",
       "22785  https://stockx.imgix.net/Air-Jordan-1-Retro-Bl...   2014-12-06   \n",
       "\n",
       "           original_retail                  colorway       log_sale_price  \n",
       "36833               190.00       gym red/black-white                 5.57  \n",
       "11986               140.00   flax/flax-outdoor green                 5.40  \n",
       "22778               140.00           black/black-gum                 5.19  \n",
       "55614               198.00            black/fire red                 6.40  \n",
       "22785               140.00           black/black-gum                 5.11  "
      ]
     },
     "execution_count": 183,
     "metadata": {},
     "output_type": "execute_result"
    }
   ],
   "source": [
    "shoes.sample(5)"
   ]
  },
  {
   "cell_type": "markdown",
   "metadata": {},
   "source": [
    "# Time Features"
   ]
  },
  {
   "cell_type": "code",
   "execution_count": 184,
   "metadata": {
    "collapsed": false
   },
   "outputs": [],
   "source": [
    "# Overwrite sales_history - no more original sales_history dataframe anymore\n",
    "sales_history = shoes.copy()\n",
    "sales_history['shoe_name'] = sales_history['name']\n",
    "sales_history['sale_date'] = pd.to_datetime(sales_history['sale_date'])\n",
    "sales_history['time_since_release'] = sales_history['sale_date'] - sales_history['release_date']\n",
    "\n",
    "# change the time delta into a count of days since release date\n",
    "sales_history['total_days_td'] = sales_history['time_since_release'].dt.total_seconds() / (24 * 60 * 60)"
   ]
  },
  {
   "cell_type": "markdown",
   "metadata": {},
   "source": [
    "Below I'm creating columns with lagged sale prices - these will become features in the model. This means dropping a few observations since I won't be able to use the first four observations of any shoe for my model."
   ]
  },
  {
   "cell_type": "code",
   "execution_count": 185,
   "metadata": {
    "collapsed": false
   },
   "outputs": [],
   "source": [
    "# Last sale price\n",
    "sales_history['sale_lagged_1'] = sales_history.groupby(['shoe_name']).sale_price.shift(1)\n",
    "sales_history['pct_vs_last'] = sales_history['sale_price'] / sales_history['sale_lagged_1'] - 1\n",
    "# Sale price minus 2\n",
    "sales_history['sale_lagged_2'] = sales_history.groupby(['shoe_name']).sale_price.shift(2)\n",
    "sales_history['pct_vs_last_2'] = sales_history['sale_lagged_1'] / sales_history['sale_lagged_2'] - 1\n",
    "# Sale price minus 3\n",
    "sales_history['sale_lagged_3'] = sales_history.groupby(['shoe_name']).sale_price.shift(3)\n",
    "sales_history['pct_vs_last_3'] = sales_history['sale_lagged_2'] / sales_history['sale_lagged_3'] - 1\n",
    "# Sale price minus 4\n",
    "sales_history['sale_lagged_4'] = sales_history.groupby(['shoe_name']).sale_price.shift(4)\n",
    "sales_history['pct_vs_last_4'] = sales_history['sale_lagged_3'] / sales_history['sale_lagged_4'] - 1"
   ]
  },
  {
   "cell_type": "markdown",
   "metadata": {},
   "source": [
    "Note to self: computing rolling average requires unique index of name + datetime"
   ]
  },
  {
   "cell_type": "code",
   "execution_count": 186,
   "metadata": {
    "collapsed": false
   },
   "outputs": [],
   "source": [
    "sales_history = sales_history.set_index(['name', 'sale_date'])"
   ]
  },
  {
   "cell_type": "code",
   "execution_count": 187,
   "metadata": {
    "collapsed": true
   },
   "outputs": [],
   "source": [
    "# Rolling average of last 4 observations\n",
    "sales_history['rolling_avg_4'] = (\n",
    "    sales_history.groupby(level = 0)['sale_price'].rolling(4).mean().shift(1).reset_index(0,drop=True))"
   ]
  },
  {
   "cell_type": "code",
   "execution_count": 188,
   "metadata": {
    "collapsed": false
   },
   "outputs": [],
   "source": [
    "# Insert an column with intercept for OLS model.\n",
    "sales_history['intercept'] = 1"
   ]
  },
  {
   "cell_type": "code",
   "execution_count": 189,
   "metadata": {
    "collapsed": true
   },
   "outputs": [],
   "source": [
    "# Then drop the NaNs.\n",
    "sales_history = sales_history.dropna()"
   ]
  },
  {
   "cell_type": "code",
   "execution_count": 190,
   "metadata": {
    "collapsed": false
   },
   "outputs": [
    {
     "data": {
      "text/html": [
       "<div>\n",
       "<table border=\"1\" class=\"dataframe\">\n",
       "  <thead>\n",
       "    <tr style=\"text-align: right;\">\n",
       "      <th></th>\n",
       "      <th></th>\n",
       "      <th>sale_price</th>\n",
       "      <th>volume</th>\n",
       "      <th>main_color</th>\n",
       "      <th>line</th>\n",
       "      <th>brand</th>\n",
       "      <th>style_code</th>\n",
       "      <th>image_url</th>\n",
       "      <th>release_date</th>\n",
       "      <th>original_retail</th>\n",
       "      <th>colorway</th>\n",
       "      <th>log_sale_price</th>\n",
       "      <th>shoe_name</th>\n",
       "      <th>time_since_release</th>\n",
       "      <th>total_days_td</th>\n",
       "      <th>sale_lagged_1</th>\n",
       "      <th>pct_vs_last</th>\n",
       "      <th>sale_lagged_2</th>\n",
       "      <th>pct_vs_last_2</th>\n",
       "      <th>sale_lagged_3</th>\n",
       "      <th>pct_vs_last_3</th>\n",
       "      <th>sale_lagged_4</th>\n",
       "      <th>pct_vs_last_4</th>\n",
       "      <th>rolling_avg_4</th>\n",
       "      <th>intercept</th>\n",
       "    </tr>\n",
       "    <tr>\n",
       "      <th>name</th>\n",
       "      <th>sale_date</th>\n",
       "      <th></th>\n",
       "      <th></th>\n",
       "      <th></th>\n",
       "      <th></th>\n",
       "      <th></th>\n",
       "      <th></th>\n",
       "      <th></th>\n",
       "      <th></th>\n",
       "      <th></th>\n",
       "      <th></th>\n",
       "      <th></th>\n",
       "      <th></th>\n",
       "      <th></th>\n",
       "      <th></th>\n",
       "      <th></th>\n",
       "      <th></th>\n",
       "      <th></th>\n",
       "      <th></th>\n",
       "      <th></th>\n",
       "      <th></th>\n",
       "      <th></th>\n",
       "      <th></th>\n",
       "      <th></th>\n",
       "      <th></th>\n",
       "    </tr>\n",
       "  </thead>\n",
       "  <tbody>\n",
       "    <tr>\n",
       "      <th rowspan=\"2\" valign=\"top\">Adidas AW Run Alexander Wang Black</th>\n",
       "      <th>2017-03-09</th>\n",
       "      <td>343.83</td>\n",
       "      <td>12</td>\n",
       "      <td>basic</td>\n",
       "      <td>adidas</td>\n",
       "      <td>adidas</td>\n",
       "      <td>cm7825</td>\n",
       "      <td>https://stockx.imgix.net/Adidas-AW-Run-Alexand...</td>\n",
       "      <td>2017-03-04</td>\n",
       "      <td>230.00</td>\n",
       "      <td>black/white</td>\n",
       "      <td>5.84</td>\n",
       "      <td>Adidas AW Run Alexander Wang Black</td>\n",
       "      <td>5 days</td>\n",
       "      <td>5.00</td>\n",
       "      <td>370.67</td>\n",
       "      <td>-0.07</td>\n",
       "      <td>422.67</td>\n",
       "      <td>-0.12</td>\n",
       "      <td>517.00</td>\n",
       "      <td>-0.18</td>\n",
       "      <td>586.00</td>\n",
       "      <td>-0.12</td>\n",
       "      <td>474.08</td>\n",
       "      <td>1</td>\n",
       "    </tr>\n",
       "    <tr>\n",
       "      <th>2017-03-10</th>\n",
       "      <td>344.12</td>\n",
       "      <td>8</td>\n",
       "      <td>basic</td>\n",
       "      <td>adidas</td>\n",
       "      <td>adidas</td>\n",
       "      <td>cm7825</td>\n",
       "      <td>https://stockx.imgix.net/Adidas-AW-Run-Alexand...</td>\n",
       "      <td>2017-03-04</td>\n",
       "      <td>230.00</td>\n",
       "      <td>black/white</td>\n",
       "      <td>5.84</td>\n",
       "      <td>Adidas AW Run Alexander Wang Black</td>\n",
       "      <td>6 days</td>\n",
       "      <td>6.00</td>\n",
       "      <td>343.83</td>\n",
       "      <td>0.00</td>\n",
       "      <td>370.67</td>\n",
       "      <td>-0.07</td>\n",
       "      <td>422.67</td>\n",
       "      <td>-0.12</td>\n",
       "      <td>517.00</td>\n",
       "      <td>-0.18</td>\n",
       "      <td>413.54</td>\n",
       "      <td>1</td>\n",
       "    </tr>\n",
       "  </tbody>\n",
       "</table>\n",
       "</div>"
      ],
      "text/plain": [
       "                                                        sale_price  volume  \\\n",
       "name                               sale_date                                 \n",
       "Adidas AW Run Alexander Wang Black 2017-03-09               343.83      12   \n",
       "                                   2017-03-10               344.12       8   \n",
       "\n",
       "                                              main_color    line   brand  \\\n",
       "name                               sale_date                               \n",
       "Adidas AW Run Alexander Wang Black 2017-03-09      basic  adidas  adidas   \n",
       "                                   2017-03-10      basic  adidas  adidas   \n",
       "\n",
       "                                              style_code  \\\n",
       "name                               sale_date               \n",
       "Adidas AW Run Alexander Wang Black 2017-03-09     cm7825   \n",
       "                                   2017-03-10     cm7825   \n",
       "\n",
       "                                                                                       image_url  \\\n",
       "name                               sale_date                                                       \n",
       "Adidas AW Run Alexander Wang Black 2017-03-09  https://stockx.imgix.net/Adidas-AW-Run-Alexand...   \n",
       "                                   2017-03-10  https://stockx.imgix.net/Adidas-AW-Run-Alexand...   \n",
       "\n",
       "                                              release_date  \\\n",
       "name                               sale_date                 \n",
       "Adidas AW Run Alexander Wang Black 2017-03-09   2017-03-04   \n",
       "                                   2017-03-10   2017-03-04   \n",
       "\n",
       "                                                   original_retail  \\\n",
       "name                               sale_date                         \n",
       "Adidas AW Run Alexander Wang Black 2017-03-09               230.00   \n",
       "                                   2017-03-10               230.00   \n",
       "\n",
       "                                                   colorway  \\\n",
       "name                               sale_date                  \n",
       "Adidas AW Run Alexander Wang Black 2017-03-09   black/white   \n",
       "                                   2017-03-10   black/white   \n",
       "\n",
       "                                                    log_sale_price  \\\n",
       "name                               sale_date                         \n",
       "Adidas AW Run Alexander Wang Black 2017-03-09                 5.84   \n",
       "                                   2017-03-10                 5.84   \n",
       "\n",
       "                                                                        shoe_name  \\\n",
       "name                               sale_date                                        \n",
       "Adidas AW Run Alexander Wang Black 2017-03-09  Adidas AW Run Alexander Wang Black   \n",
       "                                   2017-03-10  Adidas AW Run Alexander Wang Black   \n",
       "\n",
       "                                               time_since_release  \\\n",
       "name                               sale_date                        \n",
       "Adidas AW Run Alexander Wang Black 2017-03-09              5 days   \n",
       "                                   2017-03-10              6 days   \n",
       "\n",
       "                                                     total_days_td  \\\n",
       "name                               sale_date                         \n",
       "Adidas AW Run Alexander Wang Black 2017-03-09                 5.00   \n",
       "                                   2017-03-10                 6.00   \n",
       "\n",
       "                                                     sale_lagged_1  \\\n",
       "name                               sale_date                         \n",
       "Adidas AW Run Alexander Wang Black 2017-03-09               370.67   \n",
       "                                   2017-03-10               343.83   \n",
       "\n",
       "                                                       pct_vs_last  \\\n",
       "name                               sale_date                         \n",
       "Adidas AW Run Alexander Wang Black 2017-03-09                -0.07   \n",
       "                                   2017-03-10                 0.00   \n",
       "\n",
       "                                                     sale_lagged_2  \\\n",
       "name                               sale_date                         \n",
       "Adidas AW Run Alexander Wang Black 2017-03-09               422.67   \n",
       "                                   2017-03-10               370.67   \n",
       "\n",
       "                                                     pct_vs_last_2  \\\n",
       "name                               sale_date                         \n",
       "Adidas AW Run Alexander Wang Black 2017-03-09                -0.12   \n",
       "                                   2017-03-10                -0.07   \n",
       "\n",
       "                                                     sale_lagged_3  \\\n",
       "name                               sale_date                         \n",
       "Adidas AW Run Alexander Wang Black 2017-03-09               517.00   \n",
       "                                   2017-03-10               422.67   \n",
       "\n",
       "                                                     pct_vs_last_3  \\\n",
       "name                               sale_date                         \n",
       "Adidas AW Run Alexander Wang Black 2017-03-09                -0.18   \n",
       "                                   2017-03-10                -0.12   \n",
       "\n",
       "                                                     sale_lagged_4  \\\n",
       "name                               sale_date                         \n",
       "Adidas AW Run Alexander Wang Black 2017-03-09               586.00   \n",
       "                                   2017-03-10               517.00   \n",
       "\n",
       "                                                     pct_vs_last_4  \\\n",
       "name                               sale_date                         \n",
       "Adidas AW Run Alexander Wang Black 2017-03-09                -0.12   \n",
       "                                   2017-03-10                -0.18   \n",
       "\n",
       "                                                     rolling_avg_4  intercept  \n",
       "name                               sale_date                                   \n",
       "Adidas AW Run Alexander Wang Black 2017-03-09               474.08          1  \n",
       "                                   2017-03-10               413.54          1  "
      ]
     },
     "execution_count": 190,
     "metadata": {},
     "output_type": "execute_result"
    }
   ],
   "source": [
    "sales_history.head(2)"
   ]
  },
  {
   "cell_type": "code",
   "execution_count": 191,
   "metadata": {
    "collapsed": false
   },
   "outputs": [
    {
     "data": {
      "text/plain": [
       "(73679, 24)"
      ]
     },
     "execution_count": 191,
     "metadata": {},
     "output_type": "execute_result"
    }
   ],
   "source": [
    "sales_history.shape"
   ]
  },
  {
   "cell_type": "code",
   "execution_count": 192,
   "metadata": {
    "collapsed": false
   },
   "outputs": [
    {
     "data": {
      "text/plain": [
       "24"
      ]
     },
     "execution_count": 192,
     "metadata": {},
     "output_type": "execute_result"
    }
   ],
   "source": [
    "column_names = list(sales_history.columns.values)\n",
    "len(column_names)"
   ]
  },
  {
   "cell_type": "markdown",
   "metadata": {},
   "source": [
    "<a id='model'></a>\n",
    "# Model for all shoes\n",
    "[Back to top](#top)"
   ]
  },
  {
   "cell_type": "code",
   "execution_count": 193,
   "metadata": {
    "collapsed": false
   },
   "outputs": [],
   "source": [
    "all_shoes = sales_history.reset_index()\n",
    "all_shoes = all_shoes.sort_values(['sale_date'])"
   ]
  },
  {
   "cell_type": "code",
   "execution_count": 194,
   "metadata": {
    "collapsed": false
   },
   "outputs": [],
   "source": [
    "# save the min and max of rolling average for the forecast function later\n",
    "rolling_avg_4_min = all_shoes.rolling_avg_4.min()\n",
    "rolling_avg_4_max = all_shoes.rolling_avg_4.max()"
   ]
  },
  {
   "cell_type": "code",
   "execution_count": 142,
   "metadata": {
    "collapsed": false
   },
   "outputs": [
    {
     "data": {
      "text/html": [
       "<div>\n",
       "<table border=\"1\" class=\"dataframe\">\n",
       "  <thead>\n",
       "    <tr style=\"text-align: right;\">\n",
       "      <th></th>\n",
       "      <th>name</th>\n",
       "      <th>sale_date</th>\n",
       "      <th>sale_price</th>\n",
       "      <th>volume</th>\n",
       "      <th>main_color</th>\n",
       "      <th>line</th>\n",
       "      <th>brand</th>\n",
       "      <th>style_code</th>\n",
       "      <th>image_url</th>\n",
       "      <th>release_date</th>\n",
       "      <th>original_retail</th>\n",
       "      <th>colorway</th>\n",
       "      <th>log_sale_price</th>\n",
       "      <th>shoe_name</th>\n",
       "      <th>time_since_release</th>\n",
       "      <th>total_days_td</th>\n",
       "      <th>sale_lagged_1</th>\n",
       "      <th>pct_vs_last</th>\n",
       "      <th>sale_lagged_2</th>\n",
       "      <th>pct_vs_last_2</th>\n",
       "      <th>sale_lagged_3</th>\n",
       "      <th>pct_vs_last_3</th>\n",
       "      <th>sale_lagged_4</th>\n",
       "      <th>pct_vs_last_4</th>\n",
       "      <th>rolling_avg_4</th>\n",
       "      <th>intercept</th>\n",
       "    </tr>\n",
       "  </thead>\n",
       "  <tbody>\n",
       "    <tr>\n",
       "      <th>63114</th>\n",
       "      <td>Jordan Spiz'ike Bordeaux</td>\n",
       "      <td>2012-05-02</td>\n",
       "      <td>250.00</td>\n",
       "      <td>1</td>\n",
       "      <td>other</td>\n",
       "      <td>jordan</td>\n",
       "      <td>nike</td>\n",
       "      <td>315371-070</td>\n",
       "      <td>https://stockx.imgix.net/Air-Jordan-Spizike-Bo...</td>\n",
       "      <td>2012-02-04</td>\n",
       "      <td>175.00</td>\n",
       "      <td>neutral grey/varsity maize-dark charcoal-sapp...</td>\n",
       "      <td>5.52</td>\n",
       "      <td>Jordan Spiz'ike Bordeaux</td>\n",
       "      <td>88 days</td>\n",
       "      <td>88.00</td>\n",
       "      <td>250.00</td>\n",
       "      <td>0.00</td>\n",
       "      <td>250.00</td>\n",
       "      <td>0.00</td>\n",
       "      <td>250.00</td>\n",
       "      <td>0.00</td>\n",
       "      <td>250.00</td>\n",
       "      <td>0.00</td>\n",
       "      <td>134.48</td>\n",
       "      <td>1</td>\n",
       "    </tr>\n",
       "    <tr>\n",
       "      <th>63115</th>\n",
       "      <td>Jordan Spiz'ike Bordeaux</td>\n",
       "      <td>2012-05-03</td>\n",
       "      <td>240.00</td>\n",
       "      <td>1</td>\n",
       "      <td>other</td>\n",
       "      <td>jordan</td>\n",
       "      <td>nike</td>\n",
       "      <td>315371-070</td>\n",
       "      <td>https://stockx.imgix.net/Air-Jordan-Spizike-Bo...</td>\n",
       "      <td>2012-02-04</td>\n",
       "      <td>175.00</td>\n",
       "      <td>neutral grey/varsity maize-dark charcoal-sapp...</td>\n",
       "      <td>5.48</td>\n",
       "      <td>Jordan Spiz'ike Bordeaux</td>\n",
       "      <td>89 days</td>\n",
       "      <td>89.00</td>\n",
       "      <td>250.00</td>\n",
       "      <td>-0.04</td>\n",
       "      <td>250.00</td>\n",
       "      <td>0.00</td>\n",
       "      <td>250.00</td>\n",
       "      <td>0.00</td>\n",
       "      <td>250.00</td>\n",
       "      <td>0.00</td>\n",
       "      <td>134.48</td>\n",
       "      <td>1</td>\n",
       "    </tr>\n",
       "    <tr>\n",
       "      <th>63116</th>\n",
       "      <td>Jordan Spiz'ike Bordeaux</td>\n",
       "      <td>2012-05-06</td>\n",
       "      <td>300.00</td>\n",
       "      <td>1</td>\n",
       "      <td>other</td>\n",
       "      <td>jordan</td>\n",
       "      <td>nike</td>\n",
       "      <td>315371-070</td>\n",
       "      <td>https://stockx.imgix.net/Air-Jordan-Spizike-Bo...</td>\n",
       "      <td>2012-02-04</td>\n",
       "      <td>175.00</td>\n",
       "      <td>neutral grey/varsity maize-dark charcoal-sapp...</td>\n",
       "      <td>5.70</td>\n",
       "      <td>Jordan Spiz'ike Bordeaux</td>\n",
       "      <td>92 days</td>\n",
       "      <td>92.00</td>\n",
       "      <td>240.00</td>\n",
       "      <td>0.25</td>\n",
       "      <td>250.00</td>\n",
       "      <td>-0.04</td>\n",
       "      <td>250.00</td>\n",
       "      <td>0.00</td>\n",
       "      <td>250.00</td>\n",
       "      <td>0.00</td>\n",
       "      <td>131.98</td>\n",
       "      <td>1</td>\n",
       "    </tr>\n",
       "  </tbody>\n",
       "</table>\n",
       "</div>"
      ],
      "text/plain": [
       "                           name  sale_date           sale_price  volume  \\\n",
       "63114  Jordan Spiz'ike Bordeaux 2012-05-02               250.00       1   \n",
       "63115  Jordan Spiz'ike Bordeaux 2012-05-03               240.00       1   \n",
       "63116  Jordan Spiz'ike Bordeaux 2012-05-06               300.00       1   \n",
       "\n",
       "      main_color    line brand   style_code  \\\n",
       "63114      other  jordan  nike   315371-070   \n",
       "63115      other  jordan  nike   315371-070   \n",
       "63116      other  jordan  nike   315371-070   \n",
       "\n",
       "                                               image_url release_date  \\\n",
       "63114  https://stockx.imgix.net/Air-Jordan-Spizike-Bo...   2012-02-04   \n",
       "63115  https://stockx.imgix.net/Air-Jordan-Spizike-Bo...   2012-02-04   \n",
       "63116  https://stockx.imgix.net/Air-Jordan-Spizike-Bo...   2012-02-04   \n",
       "\n",
       "           original_retail                                           colorway  \\\n",
       "63114               175.00   neutral grey/varsity maize-dark charcoal-sapp...   \n",
       "63115               175.00   neutral grey/varsity maize-dark charcoal-sapp...   \n",
       "63116               175.00   neutral grey/varsity maize-dark charcoal-sapp...   \n",
       "\n",
       "            log_sale_price                 shoe_name  time_since_release  \\\n",
       "63114                 5.52  Jordan Spiz'ike Bordeaux             88 days   \n",
       "63115                 5.48  Jordan Spiz'ike Bordeaux             89 days   \n",
       "63116                 5.70  Jordan Spiz'ike Bordeaux             92 days   \n",
       "\n",
       "             total_days_td        sale_lagged_1          pct_vs_last  \\\n",
       "63114                88.00               250.00                 0.00   \n",
       "63115                89.00               250.00                -0.04   \n",
       "63116                92.00               240.00                 0.25   \n",
       "\n",
       "             sale_lagged_2        pct_vs_last_2        sale_lagged_3  \\\n",
       "63114               250.00                 0.00               250.00   \n",
       "63115               250.00                 0.00               250.00   \n",
       "63116               250.00                -0.04               250.00   \n",
       "\n",
       "             pct_vs_last_3        sale_lagged_4        pct_vs_last_4  \\\n",
       "63114                 0.00               250.00                 0.00   \n",
       "63115                 0.00               250.00                 0.00   \n",
       "63116                 0.00               250.00                 0.00   \n",
       "\n",
       "             rolling_avg_4  intercept  \n",
       "63114               134.48          1  \n",
       "63115               134.48          1  \n",
       "63116               131.98          1  "
      ]
     },
     "execution_count": 142,
     "metadata": {},
     "output_type": "execute_result"
    }
   ],
   "source": [
    "# Normalize the rolling avg column \n",
    "all_shoes['rolling_avg_4'] = (all_shoes['rolling_avg_4'] \n",
    "                               - rolling_avg_4_min \n",
    "                               / rolling_avg_4_max\n",
    "                               - rolling_avg_4_min )\n",
    "all_shoes.head(3)"
   ]
  },
  {
   "cell_type": "code",
   "execution_count": 143,
   "metadata": {
    "collapsed": false
   },
   "outputs": [
    {
     "data": {
      "image/png": "[encoded data removed]",
      "text/plain": [
       "<matplotlib.figure.Figure at 0x12e9ff1d0>"
      ]
     },
     "metadata": {},
     "output_type": "display_data"
    }
   ],
   "source": [
    "all_shoes.loc[all_shoes.name == 'Adidas NMD R1 Black Red', ['sale_price', 'rolling_avg_4']].plot();"
   ]
  },
  {
   "cell_type": "code",
   "execution_count": 144,
   "metadata": {
    "collapsed": false
   },
   "outputs": [],
   "source": [
    "# get the dummy variabls for the non-numerical features\n",
    "for col in all_shoes[['main_color','brand','line']]:\n",
    "    dummies = pd.get_dummies(all_shoes[col], prefix = col)\n",
    "    all_shoes = all_shoes.join(dummies)\n",
    "    all_shoes = all_shoes.drop(col, 1)"
   ]
  },
  {
   "cell_type": "code",
   "execution_count": 145,
   "metadata": {
    "collapsed": false
   },
   "outputs": [
    {
     "data": {
      "text/html": [
       "<div>\n",
       "<table border=\"1\" class=\"dataframe\">\n",
       "  <thead>\n",
       "    <tr style=\"text-align: right;\">\n",
       "      <th></th>\n",
       "      <th>name</th>\n",
       "      <th>sale_date</th>\n",
       "      <th>sale_price</th>\n",
       "      <th>volume</th>\n",
       "      <th>style_code</th>\n",
       "      <th>image_url</th>\n",
       "      <th>release_date</th>\n",
       "      <th>original_retail</th>\n",
       "      <th>colorway</th>\n",
       "      <th>log_sale_price</th>\n",
       "      <th>shoe_name</th>\n",
       "      <th>time_since_release</th>\n",
       "      <th>total_days_td</th>\n",
       "      <th>sale_lagged_1</th>\n",
       "      <th>pct_vs_last</th>\n",
       "      <th>sale_lagged_2</th>\n",
       "      <th>pct_vs_last_2</th>\n",
       "      <th>sale_lagged_3</th>\n",
       "      <th>pct_vs_last_3</th>\n",
       "      <th>sale_lagged_4</th>\n",
       "      <th>...</th>\n",
       "      <th>rolling_avg_4</th>\n",
       "      <th>intercept</th>\n",
       "      <th>main_color_basic</th>\n",
       "      <th>main_color_other</th>\n",
       "      <th>brand_adidas</th>\n",
       "      <th>brand_asics</th>\n",
       "      <th>brand_nike</th>\n",
       "      <th>brand_reebok</th>\n",
       "      <th>line_adidas</th>\n",
       "      <th>line_air</th>\n",
       "      <th>line_asics</th>\n",
       "      <th>line_foamposite</th>\n",
       "      <th>line_jordan</th>\n",
       "      <th>line_kd</th>\n",
       "      <th>line_kobe</th>\n",
       "      <th>line_kyrie</th>\n",
       "      <th>line_lebron</th>\n",
       "      <th>line_nike</th>\n",
       "      <th>line_reebok</th>\n",
       "      <th>line_sf</th>\n",
       "    </tr>\n",
       "  </thead>\n",
       "  <tbody>\n",
       "    <tr>\n",
       "      <th>63114</th>\n",
       "      <td>Jordan Spiz'ike Bordeaux</td>\n",
       "      <td>2012-05-02</td>\n",
       "      <td>250.00</td>\n",
       "      <td>1</td>\n",
       "      <td>315371-070</td>\n",
       "      <td>https://stockx.imgix.net/Air-Jordan-Spizike-Bo...</td>\n",
       "      <td>2012-02-04</td>\n",
       "      <td>175.00</td>\n",
       "      <td>neutral grey/varsity maize-dark charcoal-sapp...</td>\n",
       "      <td>5.52</td>\n",
       "      <td>Jordan Spiz'ike Bordeaux</td>\n",
       "      <td>88 days</td>\n",
       "      <td>88.00</td>\n",
       "      <td>250.00</td>\n",
       "      <td>0.00</td>\n",
       "      <td>250.00</td>\n",
       "      <td>0.00</td>\n",
       "      <td>250.00</td>\n",
       "      <td>0.00</td>\n",
       "      <td>250.00</td>\n",
       "      <td>...</td>\n",
       "      <td>134.48</td>\n",
       "      <td>1</td>\n",
       "      <td>0.00</td>\n",
       "      <td>1.00</td>\n",
       "      <td>0.00</td>\n",
       "      <td>0.00</td>\n",
       "      <td>1.00</td>\n",
       "      <td>0.00</td>\n",
       "      <td>0.00</td>\n",
       "      <td>0.00</td>\n",
       "      <td>0.00</td>\n",
       "      <td>0.00</td>\n",
       "      <td>1.00</td>\n",
       "      <td>0.00</td>\n",
       "      <td>0.00</td>\n",
       "      <td>0.00</td>\n",
       "      <td>0.00</td>\n",
       "      <td>0.00</td>\n",
       "      <td>0.00</td>\n",
       "      <td>0.00</td>\n",
       "    </tr>\n",
       "    <tr>\n",
       "      <th>63115</th>\n",
       "      <td>Jordan Spiz'ike Bordeaux</td>\n",
       "      <td>2012-05-03</td>\n",
       "      <td>240.00</td>\n",
       "      <td>1</td>\n",
       "      <td>315371-070</td>\n",
       "      <td>https://stockx.imgix.net/Air-Jordan-Spizike-Bo...</td>\n",
       "      <td>2012-02-04</td>\n",
       "      <td>175.00</td>\n",
       "      <td>neutral grey/varsity maize-dark charcoal-sapp...</td>\n",
       "      <td>5.48</td>\n",
       "      <td>Jordan Spiz'ike Bordeaux</td>\n",
       "      <td>89 days</td>\n",
       "      <td>89.00</td>\n",
       "      <td>250.00</td>\n",
       "      <td>-0.04</td>\n",
       "      <td>250.00</td>\n",
       "      <td>0.00</td>\n",
       "      <td>250.00</td>\n",
       "      <td>0.00</td>\n",
       "      <td>250.00</td>\n",
       "      <td>...</td>\n",
       "      <td>134.48</td>\n",
       "      <td>1</td>\n",
       "      <td>0.00</td>\n",
       "      <td>1.00</td>\n",
       "      <td>0.00</td>\n",
       "      <td>0.00</td>\n",
       "      <td>1.00</td>\n",
       "      <td>0.00</td>\n",
       "      <td>0.00</td>\n",
       "      <td>0.00</td>\n",
       "      <td>0.00</td>\n",
       "      <td>0.00</td>\n",
       "      <td>1.00</td>\n",
       "      <td>0.00</td>\n",
       "      <td>0.00</td>\n",
       "      <td>0.00</td>\n",
       "      <td>0.00</td>\n",
       "      <td>0.00</td>\n",
       "      <td>0.00</td>\n",
       "      <td>0.00</td>\n",
       "    </tr>\n",
       "    <tr>\n",
       "      <th>63116</th>\n",
       "      <td>Jordan Spiz'ike Bordeaux</td>\n",
       "      <td>2012-05-06</td>\n",
       "      <td>300.00</td>\n",
       "      <td>1</td>\n",
       "      <td>315371-070</td>\n",
       "      <td>https://stockx.imgix.net/Air-Jordan-Spizike-Bo...</td>\n",
       "      <td>2012-02-04</td>\n",
       "      <td>175.00</td>\n",
       "      <td>neutral grey/varsity maize-dark charcoal-sapp...</td>\n",
       "      <td>5.70</td>\n",
       "      <td>Jordan Spiz'ike Bordeaux</td>\n",
       "      <td>92 days</td>\n",
       "      <td>92.00</td>\n",
       "      <td>240.00</td>\n",
       "      <td>0.25</td>\n",
       "      <td>250.00</td>\n",
       "      <td>-0.04</td>\n",
       "      <td>250.00</td>\n",
       "      <td>0.00</td>\n",
       "      <td>250.00</td>\n",
       "      <td>...</td>\n",
       "      <td>131.98</td>\n",
       "      <td>1</td>\n",
       "      <td>0.00</td>\n",
       "      <td>1.00</td>\n",
       "      <td>0.00</td>\n",
       "      <td>0.00</td>\n",
       "      <td>1.00</td>\n",
       "      <td>0.00</td>\n",
       "      <td>0.00</td>\n",
       "      <td>0.00</td>\n",
       "      <td>0.00</td>\n",
       "      <td>0.00</td>\n",
       "      <td>1.00</td>\n",
       "      <td>0.00</td>\n",
       "      <td>0.00</td>\n",
       "      <td>0.00</td>\n",
       "      <td>0.00</td>\n",
       "      <td>0.00</td>\n",
       "      <td>0.00</td>\n",
       "      <td>0.00</td>\n",
       "    </tr>\n",
       "    <tr>\n",
       "      <th>63117</th>\n",
       "      <td>Jordan Spiz'ike Bordeaux</td>\n",
       "      <td>2012-05-07</td>\n",
       "      <td>246.67</td>\n",
       "      <td>3</td>\n",
       "      <td>315371-070</td>\n",
       "      <td>https://stockx.imgix.net/Air-Jordan-Spizike-Bo...</td>\n",
       "      <td>2012-02-04</td>\n",
       "      <td>175.00</td>\n",
       "      <td>neutral grey/varsity maize-dark charcoal-sapp...</td>\n",
       "      <td>5.51</td>\n",
       "      <td>Jordan Spiz'ike Bordeaux</td>\n",
       "      <td>93 days</td>\n",
       "      <td>93.00</td>\n",
       "      <td>300.00</td>\n",
       "      <td>-0.18</td>\n",
       "      <td>240.00</td>\n",
       "      <td>0.25</td>\n",
       "      <td>250.00</td>\n",
       "      <td>-0.04</td>\n",
       "      <td>250.00</td>\n",
       "      <td>...</td>\n",
       "      <td>144.48</td>\n",
       "      <td>1</td>\n",
       "      <td>0.00</td>\n",
       "      <td>1.00</td>\n",
       "      <td>0.00</td>\n",
       "      <td>0.00</td>\n",
       "      <td>1.00</td>\n",
       "      <td>0.00</td>\n",
       "      <td>0.00</td>\n",
       "      <td>0.00</td>\n",
       "      <td>0.00</td>\n",
       "      <td>0.00</td>\n",
       "      <td>1.00</td>\n",
       "      <td>0.00</td>\n",
       "      <td>0.00</td>\n",
       "      <td>0.00</td>\n",
       "      <td>0.00</td>\n",
       "      <td>0.00</td>\n",
       "      <td>0.00</td>\n",
       "      <td>0.00</td>\n",
       "    </tr>\n",
       "    <tr>\n",
       "      <th>63118</th>\n",
       "      <td>Jordan Spiz'ike Bordeaux</td>\n",
       "      <td>2012-05-08</td>\n",
       "      <td>220.00</td>\n",
       "      <td>1</td>\n",
       "      <td>315371-070</td>\n",
       "      <td>https://stockx.imgix.net/Air-Jordan-Spizike-Bo...</td>\n",
       "      <td>2012-02-04</td>\n",
       "      <td>175.00</td>\n",
       "      <td>neutral grey/varsity maize-dark charcoal-sapp...</td>\n",
       "      <td>5.39</td>\n",
       "      <td>Jordan Spiz'ike Bordeaux</td>\n",
       "      <td>94 days</td>\n",
       "      <td>94.00</td>\n",
       "      <td>246.67</td>\n",
       "      <td>-0.11</td>\n",
       "      <td>300.00</td>\n",
       "      <td>-0.18</td>\n",
       "      <td>240.00</td>\n",
       "      <td>0.25</td>\n",
       "      <td>250.00</td>\n",
       "      <td>...</td>\n",
       "      <td>143.64</td>\n",
       "      <td>1</td>\n",
       "      <td>0.00</td>\n",
       "      <td>1.00</td>\n",
       "      <td>0.00</td>\n",
       "      <td>0.00</td>\n",
       "      <td>1.00</td>\n",
       "      <td>0.00</td>\n",
       "      <td>0.00</td>\n",
       "      <td>0.00</td>\n",
       "      <td>0.00</td>\n",
       "      <td>0.00</td>\n",
       "      <td>1.00</td>\n",
       "      <td>0.00</td>\n",
       "      <td>0.00</td>\n",
       "      <td>0.00</td>\n",
       "      <td>0.00</td>\n",
       "      <td>0.00</td>\n",
       "      <td>0.00</td>\n",
       "      <td>0.00</td>\n",
       "    </tr>\n",
       "  </tbody>\n",
       "</table>\n",
       "<p>5 rows × 41 columns</p>\n",
       "</div>"
      ],
      "text/plain": [
       "                           name  sale_date           sale_price  volume  \\\n",
       "63114  Jordan Spiz'ike Bordeaux 2012-05-02               250.00       1   \n",
       "63115  Jordan Spiz'ike Bordeaux 2012-05-03               240.00       1   \n",
       "63116  Jordan Spiz'ike Bordeaux 2012-05-06               300.00       1   \n",
       "63117  Jordan Spiz'ike Bordeaux 2012-05-07               246.67       3   \n",
       "63118  Jordan Spiz'ike Bordeaux 2012-05-08               220.00       1   \n",
       "\n",
       "        style_code                                          image_url  \\\n",
       "63114   315371-070  https://stockx.imgix.net/Air-Jordan-Spizike-Bo...   \n",
       "63115   315371-070  https://stockx.imgix.net/Air-Jordan-Spizike-Bo...   \n",
       "63116   315371-070  https://stockx.imgix.net/Air-Jordan-Spizike-Bo...   \n",
       "63117   315371-070  https://stockx.imgix.net/Air-Jordan-Spizike-Bo...   \n",
       "63118   315371-070  https://stockx.imgix.net/Air-Jordan-Spizike-Bo...   \n",
       "\n",
       "      release_date      original_retail  \\\n",
       "63114   2012-02-04               175.00   \n",
       "63115   2012-02-04               175.00   \n",
       "63116   2012-02-04               175.00   \n",
       "63117   2012-02-04               175.00   \n",
       "63118   2012-02-04               175.00   \n",
       "\n",
       "                                                colorway       log_sale_price  \\\n",
       "63114   neutral grey/varsity maize-dark charcoal-sapp...                 5.52   \n",
       "63115   neutral grey/varsity maize-dark charcoal-sapp...                 5.48   \n",
       "63116   neutral grey/varsity maize-dark charcoal-sapp...                 5.70   \n",
       "63117   neutral grey/varsity maize-dark charcoal-sapp...                 5.51   \n",
       "63118   neutral grey/varsity maize-dark charcoal-sapp...                 5.39   \n",
       "\n",
       "                      shoe_name  time_since_release        total_days_td  \\\n",
       "63114  Jordan Spiz'ike Bordeaux             88 days                88.00   \n",
       "63115  Jordan Spiz'ike Bordeaux             89 days                89.00   \n",
       "63116  Jordan Spiz'ike Bordeaux             92 days                92.00   \n",
       "63117  Jordan Spiz'ike Bordeaux             93 days                93.00   \n",
       "63118  Jordan Spiz'ike Bordeaux             94 days                94.00   \n",
       "\n",
       "             sale_lagged_1          pct_vs_last        sale_lagged_2  \\\n",
       "63114               250.00                 0.00               250.00   \n",
       "63115               250.00                -0.04               250.00   \n",
       "63116               240.00                 0.25               250.00   \n",
       "63117               300.00                -0.18               240.00   \n",
       "63118               246.67                -0.11               300.00   \n",
       "\n",
       "             pct_vs_last_2        sale_lagged_3        pct_vs_last_3  \\\n",
       "63114                 0.00               250.00                 0.00   \n",
       "63115                 0.00               250.00                 0.00   \n",
       "63116                -0.04               250.00                 0.00   \n",
       "63117                 0.25               250.00                -0.04   \n",
       "63118                -0.18               240.00                 0.25   \n",
       "\n",
       "             sale_lagged_4         ...                 rolling_avg_4  \\\n",
       "63114               250.00         ...                        134.48   \n",
       "63115               250.00         ...                        134.48   \n",
       "63116               250.00         ...                        131.98   \n",
       "63117               250.00         ...                        144.48   \n",
       "63118               250.00         ...                        143.64   \n",
       "\n",
       "       intercept     main_color_basic     main_color_other  \\\n",
       "63114          1                 0.00                 1.00   \n",
       "63115          1                 0.00                 1.00   \n",
       "63116          1                 0.00                 1.00   \n",
       "63117          1                 0.00                 1.00   \n",
       "63118          1                 0.00                 1.00   \n",
       "\n",
       "              brand_adidas          brand_asics           brand_nike  \\\n",
       "63114                 0.00                 0.00                 1.00   \n",
       "63115                 0.00                 0.00                 1.00   \n",
       "63116                 0.00                 0.00                 1.00   \n",
       "63117                 0.00                 0.00                 1.00   \n",
       "63118                 0.00                 0.00                 1.00   \n",
       "\n",
       "              brand_reebok          line_adidas             line_air  \\\n",
       "63114                 0.00                 0.00                 0.00   \n",
       "63115                 0.00                 0.00                 0.00   \n",
       "63116                 0.00                 0.00                 0.00   \n",
       "63117                 0.00                 0.00                 0.00   \n",
       "63118                 0.00                 0.00                 0.00   \n",
       "\n",
       "                line_asics      line_foamposite          line_jordan  \\\n",
       "63114                 0.00                 0.00                 1.00   \n",
       "63115                 0.00                 0.00                 1.00   \n",
       "63116                 0.00                 0.00                 1.00   \n",
       "63117                 0.00                 0.00                 1.00   \n",
       "63118                 0.00                 0.00                 1.00   \n",
       "\n",
       "                   line_kd            line_kobe           line_kyrie  \\\n",
       "63114                 0.00                 0.00                 0.00   \n",
       "63115                 0.00                 0.00                 0.00   \n",
       "63116                 0.00                 0.00                 0.00   \n",
       "63117                 0.00                 0.00                 0.00   \n",
       "63118                 0.00                 0.00                 0.00   \n",
       "\n",
       "               line_lebron            line_nike          line_reebok  \\\n",
       "63114                 0.00                 0.00                 0.00   \n",
       "63115                 0.00                 0.00                 0.00   \n",
       "63116                 0.00                 0.00                 0.00   \n",
       "63117                 0.00                 0.00                 0.00   \n",
       "63118                 0.00                 0.00                 0.00   \n",
       "\n",
       "                   line_sf  \n",
       "63114                 0.00  \n",
       "63115                 0.00  \n",
       "63116                 0.00  \n",
       "63117                 0.00  \n",
       "63118                 0.00  \n",
       "\n",
       "[5 rows x 41 columns]"
      ]
     },
     "execution_count": 145,
     "metadata": {},
     "output_type": "execute_result"
    }
   ],
   "source": [
    "# drop the nas again?\n",
    "all_shoes = all_shoes.dropna()\n",
    "all_shoes.head()"
   ]
  },
  {
   "cell_type": "code",
   "execution_count": 146,
   "metadata": {
    "collapsed": false
   },
   "outputs": [],
   "source": [
    "all_shoes = all_shoes.replace([np.inf, -np.inf], np.nan)\n",
    "all_shoes = all_shoes.dropna()\n",
    "all_shoes = all_shoes.reset_index()\n",
    "\n",
    "\n",
    "# Desired outcome variable\n",
    "y = all_shoes.log_sale_price\n",
    "\n",
    "# Full set of features - no shoe size anymore\n",
    "X = all_shoes[['intercept', 'rolling_avg_4','pct_vs_last_2','pct_vs_last_3','total_days_td',\n",
    "              'main_color_basic', 'original_retail','brand_nike','line_foamposite','line_air']]"
   ]
  },
  {
   "cell_type": "code",
   "execution_count": 147,
   "metadata": {
    "collapsed": false
   },
   "outputs": [
    {
     "data": {
      "text/html": [
       "<div>\n",
       "<table border=\"1\" class=\"dataframe\">\n",
       "  <thead>\n",
       "    <tr style=\"text-align: right;\">\n",
       "      <th></th>\n",
       "      <th>intercept</th>\n",
       "      <th>rolling_avg_4</th>\n",
       "      <th>pct_vs_last_2</th>\n",
       "      <th>pct_vs_last_3</th>\n",
       "      <th>total_days_td</th>\n",
       "      <th>main_color_basic</th>\n",
       "      <th>original_retail</th>\n",
       "      <th>brand_nike</th>\n",
       "      <th>line_foamposite</th>\n",
       "      <th>line_air</th>\n",
       "    </tr>\n",
       "  </thead>\n",
       "  <tbody>\n",
       "    <tr>\n",
       "      <th>0</th>\n",
       "      <td>1</td>\n",
       "      <td>134.48</td>\n",
       "      <td>0.00</td>\n",
       "      <td>0.00</td>\n",
       "      <td>88.00</td>\n",
       "      <td>0.00</td>\n",
       "      <td>175.00</td>\n",
       "      <td>1.00</td>\n",
       "      <td>0.00</td>\n",
       "      <td>0.00</td>\n",
       "    </tr>\n",
       "    <tr>\n",
       "      <th>1</th>\n",
       "      <td>1</td>\n",
       "      <td>134.48</td>\n",
       "      <td>0.00</td>\n",
       "      <td>0.00</td>\n",
       "      <td>89.00</td>\n",
       "      <td>0.00</td>\n",
       "      <td>175.00</td>\n",
       "      <td>1.00</td>\n",
       "      <td>0.00</td>\n",
       "      <td>0.00</td>\n",
       "    </tr>\n",
       "    <tr>\n",
       "      <th>2</th>\n",
       "      <td>1</td>\n",
       "      <td>131.98</td>\n",
       "      <td>-0.04</td>\n",
       "      <td>0.00</td>\n",
       "      <td>92.00</td>\n",
       "      <td>0.00</td>\n",
       "      <td>175.00</td>\n",
       "      <td>1.00</td>\n",
       "      <td>0.00</td>\n",
       "      <td>0.00</td>\n",
       "    </tr>\n",
       "    <tr>\n",
       "      <th>3</th>\n",
       "      <td>1</td>\n",
       "      <td>144.48</td>\n",
       "      <td>0.25</td>\n",
       "      <td>-0.04</td>\n",
       "      <td>93.00</td>\n",
       "      <td>0.00</td>\n",
       "      <td>175.00</td>\n",
       "      <td>1.00</td>\n",
       "      <td>0.00</td>\n",
       "      <td>0.00</td>\n",
       "    </tr>\n",
       "    <tr>\n",
       "      <th>4</th>\n",
       "      <td>1</td>\n",
       "      <td>143.64</td>\n",
       "      <td>-0.18</td>\n",
       "      <td>0.25</td>\n",
       "      <td>94.00</td>\n",
       "      <td>0.00</td>\n",
       "      <td>175.00</td>\n",
       "      <td>1.00</td>\n",
       "      <td>0.00</td>\n",
       "      <td>0.00</td>\n",
       "    </tr>\n",
       "  </tbody>\n",
       "</table>\n",
       "</div>"
      ],
      "text/plain": [
       "   intercept        rolling_avg_4        pct_vs_last_2        pct_vs_last_3  \\\n",
       "0          1               134.48                 0.00                 0.00   \n",
       "1          1               134.48                 0.00                 0.00   \n",
       "2          1               131.98                -0.04                 0.00   \n",
       "3          1               144.48                 0.25                -0.04   \n",
       "4          1               143.64                -0.18                 0.25   \n",
       "\n",
       "         total_days_td     main_color_basic      original_retail  \\\n",
       "0                88.00                 0.00               175.00   \n",
       "1                89.00                 0.00               175.00   \n",
       "2                92.00                 0.00               175.00   \n",
       "3                93.00                 0.00               175.00   \n",
       "4                94.00                 0.00               175.00   \n",
       "\n",
       "            brand_nike      line_foamposite             line_air  \n",
       "0                 1.00                 0.00                 0.00  \n",
       "1                 1.00                 0.00                 0.00  \n",
       "2                 1.00                 0.00                 0.00  \n",
       "3                 1.00                 0.00                 0.00  \n",
       "4                 1.00                 0.00                 0.00  "
      ]
     },
     "execution_count": 147,
     "metadata": {},
     "output_type": "execute_result"
    }
   ],
   "source": [
    "X.head()"
   ]
  },
  {
   "cell_type": "code",
   "execution_count": 148,
   "metadata": {
    "collapsed": false
   },
   "outputs": [
    {
     "data": {
      "text/html": [
       "<table class=\"simpletable\">\n",
       "<caption>OLS Regression Results</caption>\n",
       "<tr>\n",
       "  <th>Dep. Variable:</th>     <td>log_sale_price</td>  <th>  R-squared:         </th> <td>   0.728</td> \n",
       "</tr>\n",
       "<tr>\n",
       "  <th>Model:</th>                   <td>OLS</td>       <th>  Adj. R-squared:    </th> <td>   0.728</td> \n",
       "</tr>\n",
       "<tr>\n",
       "  <th>Method:</th>             <td>Least Squares</td>  <th>  F-statistic:       </th> <td>1.642e+04</td>\n",
       "</tr>\n",
       "<tr>\n",
       "  <th>Date:</th>             <td>Tue, 13 Jun 2017</td> <th>  Prob (F-statistic):</th>  <td>  0.00</td>  \n",
       "</tr>\n",
       "<tr>\n",
       "  <th>Time:</th>                 <td>13:32:24</td>     <th>  Log-Likelihood:    </th> <td> -7093.3</td> \n",
       "</tr>\n",
       "<tr>\n",
       "  <th>No. Observations:</th>      <td> 55258</td>      <th>  AIC:               </th> <td>1.421e+04</td>\n",
       "</tr>\n",
       "<tr>\n",
       "  <th>Df Residuals:</th>          <td> 55248</td>      <th>  BIC:               </th> <td>1.430e+04</td>\n",
       "</tr>\n",
       "<tr>\n",
       "  <th>Df Model:</th>              <td>     9</td>      <th>                     </th>     <td> </td>    \n",
       "</tr>\n",
       "<tr>\n",
       "  <th>Covariance Type:</th>      <td>nonrobust</td>    <th>                     </th>     <td> </td>    \n",
       "</tr>\n",
       "</table>\n",
       "<table class=\"simpletable\">\n",
       "<tr>\n",
       "          <td></td>            <th>coef</th>     <th>std err</th>      <th>t</th>      <th>P>|t|</th> <th>[95.0% Conf. Int.]</th> \n",
       "</tr>\n",
       "<tr>\n",
       "  <th>intercept</th>        <td>    4.9843</td> <td>    0.005</td> <td>  909.717</td> <td> 0.000</td> <td>    4.974     4.995</td>\n",
       "</tr>\n",
       "<tr>\n",
       "  <th>rolling_avg_4</th>    <td>    0.0013</td> <td> 4.87e-06</td> <td>  262.415</td> <td> 0.000</td> <td>    0.001     0.001</td>\n",
       "</tr>\n",
       "<tr>\n",
       "  <th>pct_vs_last_2</th>    <td>   -0.0162</td> <td>    0.006</td> <td>   -2.577</td> <td> 0.010</td> <td>   -0.029    -0.004</td>\n",
       "</tr>\n",
       "<tr>\n",
       "  <th>pct_vs_last_3</th>    <td>   -0.0176</td> <td>    0.006</td> <td>   -2.794</td> <td> 0.005</td> <td>   -0.030    -0.005</td>\n",
       "</tr>\n",
       "<tr>\n",
       "  <th>total_days_td</th>    <td>    0.0002</td> <td> 2.57e-06</td> <td>   84.780</td> <td> 0.000</td> <td>    0.000     0.000</td>\n",
       "</tr>\n",
       "<tr>\n",
       "  <th>main_color_basic</th> <td>    0.0104</td> <td>    0.005</td> <td>    2.091</td> <td> 0.037</td> <td>    0.001     0.020</td>\n",
       "</tr>\n",
       "<tr>\n",
       "  <th>original_retail</th>  <td>    0.0019</td> <td> 2.44e-05</td> <td>   79.651</td> <td> 0.000</td> <td>    0.002     0.002</td>\n",
       "</tr>\n",
       "<tr>\n",
       "  <th>brand_nike</th>       <td>   -0.0973</td> <td>    0.004</td> <td>  -22.140</td> <td> 0.000</td> <td>   -0.106    -0.089</td>\n",
       "</tr>\n",
       "<tr>\n",
       "  <th>line_foamposite</th>  <td>    0.0313</td> <td>    0.005</td> <td>    6.936</td> <td> 0.000</td> <td>    0.022     0.040</td>\n",
       "</tr>\n",
       "<tr>\n",
       "  <th>line_air</th>         <td>    0.0474</td> <td>    0.005</td> <td>    9.149</td> <td> 0.000</td> <td>    0.037     0.058</td>\n",
       "</tr>\n",
       "</table>\n",
       "<table class=\"simpletable\">\n",
       "<tr>\n",
       "  <th>Omnibus:</th>       <td>22029.083</td> <th>  Durbin-Watson:     </th>  <td>   1.976</td> \n",
       "</tr>\n",
       "<tr>\n",
       "  <th>Prob(Omnibus):</th>  <td> 0.000</td>   <th>  Jarque-Bera (JB):  </th> <td>360020.042</td>\n",
       "</tr>\n",
       "<tr>\n",
       "  <th>Skew:</th>           <td>-1.487</td>   <th>  Prob(JB):          </th>  <td>    0.00</td> \n",
       "</tr>\n",
       "<tr>\n",
       "  <th>Kurtosis:</th>       <td>15.146</td>   <th>  Cond. No.          </th>  <td>4.98e+03</td> \n",
       "</tr>\n",
       "</table>"
      ],
      "text/plain": [
       "<class 'statsmodels.iolib.summary.Summary'>\n",
       "\"\"\"\n",
       "                            OLS Regression Results                            \n",
       "==============================================================================\n",
       "Dep. Variable:         log_sale_price   R-squared:                       0.728\n",
       "Model:                            OLS   Adj. R-squared:                  0.728\n",
       "Method:                 Least Squares   F-statistic:                 1.642e+04\n",
       "Date:                Tue, 13 Jun 2017   Prob (F-statistic):               0.00\n",
       "Time:                        13:32:24   Log-Likelihood:                -7093.3\n",
       "No. Observations:               55258   AIC:                         1.421e+04\n",
       "Df Residuals:                   55248   BIC:                         1.430e+04\n",
       "Df Model:                           9                                         \n",
       "Covariance Type:            nonrobust                                         \n",
       "====================================================================================\n",
       "                       coef    std err          t      P>|t|      [95.0% Conf. Int.]\n",
       "------------------------------------------------------------------------------------\n",
       "intercept            4.9843      0.005    909.717      0.000         4.974     4.995\n",
       "rolling_avg_4        0.0013   4.87e-06    262.415      0.000         0.001     0.001\n",
       "pct_vs_last_2       -0.0162      0.006     -2.577      0.010        -0.029    -0.004\n",
       "pct_vs_last_3       -0.0176      0.006     -2.794      0.005        -0.030    -0.005\n",
       "total_days_td        0.0002   2.57e-06     84.780      0.000         0.000     0.000\n",
       "main_color_basic     0.0104      0.005      2.091      0.037         0.001     0.020\n",
       "original_retail      0.0019   2.44e-05     79.651      0.000         0.002     0.002\n",
       "brand_nike          -0.0973      0.004    -22.140      0.000        -0.106    -0.089\n",
       "line_foamposite      0.0313      0.005      6.936      0.000         0.022     0.040\n",
       "line_air             0.0474      0.005      9.149      0.000         0.037     0.058\n",
       "==============================================================================\n",
       "Omnibus:                    22029.083   Durbin-Watson:                   1.976\n",
       "Prob(Omnibus):                  0.000   Jarque-Bera (JB):           360020.042\n",
       "Skew:                          -1.487   Prob(JB):                         0.00\n",
       "Kurtosis:                      15.146   Cond. No.                     4.98e+03\n",
       "==============================================================================\n",
       "\n",
       "Warnings:\n",
       "[1] Standard Errors assume that the covariance matrix of the errors is correctly specified.\n",
       "[2] The condition number is large, 4.98e+03. This might indicate that there are\n",
       "strong multicollinearity or other numerical problems.\n",
       "\"\"\""
      ]
     },
     "execution_count": 148,
     "metadata": {},
     "output_type": "execute_result"
    }
   ],
   "source": [
    "# Set test train split\n",
    "cutpoint = round((len(X)/4)*3)\n",
    "\n",
    "X_train = X.ix[:cutpoint,:]\n",
    "X_test = X.ix[cutpoint:,:]\n",
    "\n",
    "y_train = y.ix[:cutpoint]\n",
    "y_test = y.ix[cutpoint:]\n",
    "\n",
    "model = sm.OLS(y_train, X_train)\n",
    "est = model.fit()\n",
    "y_train_pred = est.predict(X_train)\n",
    "y_test_pred = est.predict(X_test)\n",
    "r_2 = est.rsquared\n",
    "est.summary()"
   ]
  },
  {
   "cell_type": "code",
   "execution_count": 149,
   "metadata": {
    "collapsed": false
   },
   "outputs": [
    {
     "name": "stdout",
     "output_type": "stream",
     "text": [
      "0.727835870319\n",
      "0.703864216614\n"
     ]
    }
   ],
   "source": [
    "# calculate means of y_test and y_train\n",
    "mean_y_test = np.mean(y_test)\n",
    "mean_y_train = np.mean(y_train)\n",
    "\n",
    "# print r_squared (train and test)\n",
    "print(1 - (mean_squared_error(y_train, y_train_pred)/mean_squared_error([mean_y_train]*len(y_train), y_train)))\n",
    "print(1 - (mean_squared_error(y_test, y_test_pred)/mean_squared_error([mean_y_test]*len(y_test), y_test)))"
   ]
  },
  {
   "cell_type": "markdown",
   "metadata": {},
   "source": [
    "# Tree Model"
   ]
  },
  {
   "cell_type": "code",
   "execution_count": 126,
   "metadata": {
    "collapsed": true
   },
   "outputs": [],
   "source": [
    "from sklearn.ensemble import RandomForestRegressor"
   ]
  },
  {
   "cell_type": "code",
   "execution_count": 127,
   "metadata": {
    "collapsed": false
   },
   "outputs": [],
   "source": [
    "tree = RandomForestRegressor(n_estimators=1000, max_depth=5)\n",
    "\n",
    "tree_model = tree.fit(X_train, y_train)"
   ]
  },
  {
   "cell_type": "code",
   "execution_count": 128,
   "metadata": {
    "collapsed": false
   },
   "outputs": [],
   "source": [
    "train_tree_pred = tree_model.predict(X_train)\n",
    "test_tree_pred = tree_model.predict(X_test)\n",
    "all_preds = tree_model.predict(X)"
   ]
  },
  {
   "cell_type": "code",
   "execution_count": 129,
   "metadata": {
    "collapsed": false
   },
   "outputs": [
    {
     "name": "stdout",
     "output_type": "stream",
     "text": [
      "0.919322763275\n",
      "0.901109201166\n"
     ]
    }
   ],
   "source": [
    "# print r_squared (train and test)\n",
    "print(1 - (mean_squared_error(y_train, train_tree_pred)/mean_squared_error([mean_y_train]*len(y_train), y_train)))\n",
    "print(1 - (mean_squared_error(y_test, test_tree_pred)/mean_squared_error([mean_y_test]*len(y_test), y_test)))"
   ]
  },
  {
   "cell_type": "code",
   "execution_count": 130,
   "metadata": {
    "collapsed": false
   },
   "outputs": [
    {
     "data": {
      "text/plain": [
       "array([  0.00000000e+00,   9.98685332e-01,   3.28701535e-05,\n",
       "         4.58108011e-05,   6.71692450e-05,   5.25887138e-05,\n",
       "         1.10524077e-03,   1.08166924e-05,   1.71418740e-07,\n",
       "         0.00000000e+00])"
      ]
     },
     "execution_count": 130,
     "metadata": {},
     "output_type": "execute_result"
    }
   ],
   "source": [
    "tree_model.feature_importances_"
   ]
  },
  {
   "cell_type": "code",
   "execution_count": 131,
   "metadata": {
    "collapsed": false
   },
   "outputs": [
    {
     "data": {
      "image/png": "[encoded data removed]",
      "text/plain": [
       "<matplotlib.figure.Figure at 0x12409b990>"
      ]
     },
     "metadata": {},
     "output_type": "display_data"
    }
   ],
   "source": [
    "plt.scatter(y_test, test_tree_pred);"
   ]
  },
  {
   "cell_type": "code",
   "execution_count": 132,
   "metadata": {
    "collapsed": false
   },
   "outputs": [],
   "source": [
    "# import forestci as fci\n",
    "# http://contrib.scikit-learn.org/forest-confidence-interval/auto_examples/plot_mpg.html#sphx-glr-auto-examples-plot-mpg-py\n",
    "# calculate inbag and unbiased variance\n",
    "# inbag = fci.calc_inbag(X_train.shape[0], tree)\n",
    "# unbiased = fci.random_forest_error(tree, inbag, X_train, X_test)"
   ]
  },
  {
   "cell_type": "markdown",
   "metadata": {
    "collapsed": true
   },
   "source": [
    "# Evaluate test set results"
   ]
  },
  {
   "cell_type": "code",
   "execution_count": null,
   "metadata": {
    "collapsed": false
   },
   "outputs": [],
   "source": [
    "# Get predicted and actual Y values from test data set\n",
    "# Actual price\n",
    "y_test2 = y_test.reset_index(drop = True)\n",
    "print(y_test2.tail(1))\n",
    "# Predicted price\n",
    "yhat = pd.Series(test_tree_pred)\n",
    "print(yhat.tail(1))\n",
    "# Shoe and date info\n",
    "names_dates = all_shoes.ix[cutpoint:, ['name', 'date']].reset_index(drop = True)\n",
    "print(names_dates.tail(1))"
   ]
  },
  {
   "cell_type": "code",
   "execution_count": null,
   "metadata": {
    "collapsed": false
   },
   "outputs": [],
   "source": [
    "# How well does the model predict if the price will go up or down? \n",
    "testing = pd.concat([names_dates, y_test2, yhat], axis = 1)\n",
    "testing.columns = ['name', 'date', 'y', 'yhat']\n",
    "testing.y = np.exp(testing.y)\n",
    "testing.yhat = np.exp(testing.yhat)\n",
    "testing = testing.set_index(['name', 'date'])\n",
    "testing = testing.sort_index()\n",
    "testing = testing.reset_index()\n",
    "# Lagged y and yhat\n",
    "testing['y_last'] = testing.groupby(['name']).y.shift(1)\n",
    "testing['yhat_last'] = testing.groupby(['name']).yhat.shift(1)\n",
    "# Compare both y and yhat to previous y value\n",
    "testing['y_change'] = testing.y - testing.y_last\n",
    "testing['yhat_change'] = testing.yhat - testing.y_last ## less accurate if you use yhat last\n",
    "# Flags for increase in y \n",
    "testing['y_up'] = 0\n",
    "testing.loc[testing.y_change >= 0, 'y_up'] = 1\n",
    "testing['yhat_up'] = 0\n",
    "testing.loc[testing.yhat_change >= 0, 'yhat_up'] = 1\n",
    "testing = testing.dropna()\n",
    "# Summary of results\n",
    "testsum = testing.groupby(['y_up', 'yhat_up']).size()\n",
    "testsum = pd.DataFrame(testsum).reset_index()\n",
    "testsum.columns = ['y_up', 'yhat_up', 'n'] \n",
    "pct_num = (testsum.loc[0, 'n'] + testsum.loc[3, 'n'])\n",
    "pct_denom = testsum['n'].sum()\n",
    "pct_correct = round(float(pct_num) / float(pct_denom), 3)\n",
    "print(testsum)\n",
    "print(pct_num)\n",
    "print(pct_denom)\n",
    "print(pct_correct)\n",
    "testing.head(15)"
   ]
  },
  {
   "cell_type": "code",
   "execution_count": null,
   "metadata": {
    "collapsed": false
   },
   "outputs": [],
   "source": [
    "testing.describe()"
   ]
  },
  {
   "cell_type": "markdown",
   "metadata": {},
   "source": [
    "# Forecast"
   ]
  },
  {
   "cell_type": "code",
   "execution_count": null,
   "metadata": {
    "collapsed": false
   },
   "outputs": [],
   "source": [
    "# Predictions for the flask app\n",
    "# Shoe list for forecast\n",
    "shoe_list = [i for i in all_shoes['name'].unique()]\n",
    "shoe_n = len(shoe_list)\n",
    "\n",
    "# have a random shoe to check whenever i want to check a shoe\n",
    "chosen_shoe = shoe_list[randint(0, shoe_n)]\n",
    "\n",
    "# Data set for forecast - all the x variables but also name, sale price, pct vs last\n",
    "forecast = all_shoes[['name', 'sale_price', 'pct_vs_last', 'intercept', 'rolling_avg_4','pct_vs_last_2','pct_vs_last_3','log_total_days_td',\n",
    "              'main_color_basic', 'original_retail','brand_nike','line_Foamposite','line_Air']]\n",
    "\n",
    "# Choose a shoe for one run\n",
    "x = forecast[forecast.name == chosen_shoe].reset_index(drop = True)\n",
    "x.tail(1)"
   ]
  },
  {
   "cell_type": "code",
   "execution_count": null,
   "metadata": {
    "collapsed": false
   },
   "outputs": [],
   "source": [
    "def make_new_row(df, mod):\n",
    "    \"\"\" Forecast the sale price of the next sale using the model \"\"\"\n",
    "    # The last row of the dataframe & sale_price\n",
    "    last_row = (len(df) - 1)\n",
    "    last_sale_price = df.sale_price[last_row]\n",
    "    \n",
    "    # the row that will be created\n",
    "    new_row_num = len(df)\n",
    "\n",
    "    # Generate X values for next observation\n",
    "    rolling_avg_4 = df.sale_price[(last_row - 3):(last_row + 1)].mean() # adjust for rolling window\n",
    "#     rolling_avg_20 = df.sale_price[(last_row - 19):(last_row + 1)].mean() # adjust for rolling window\n",
    "\n",
    "    # Normalize rolling average using global variables created above \n",
    "    rolling_avg_4 = (rolling_avg_4 - rolling_avg_4_min) / (rolling_avg_4_max - rolling_avg_4_min)\n",
    "    # rolling_avg_20 = (rolling_avg_20 - rolling_avg_20_min) / (rolling_avg_20_max - rolling_avg_20_min)\n",
    "    \n",
    "    # take pct vs last from row above\n",
    "    pct_vs_last_2 = df.pct_vs_last[last_row]\n",
    "    pct_vs_last_3 = df.pct_vs_last_2[last_row]\n",
    "    \n",
    "    # added 1 day to the time delta and then re log it \n",
    "    log_total_days_td = np.log(np.exp(df.log_total_days_td[last_row]) + 1) # better way to do this? \n",
    "    \n",
    "    # fill in dataframe with other features by shoe\n",
    "    main_color_basic = df.main_color_basic[last_row]\n",
    "    original_retail = df.original_retail[last_row]\n",
    "    brand_nike = df.brand_nike[last_row]\n",
    "    line_Foamposite = df.line_Foamposite[last_row]\n",
    "    line_Air = df.line_Air[last_row]\n",
    "    \n",
    "    # add the intercept\n",
    "    intercept = 1\n",
    "    \n",
    "    # New array with all the variables saved above\n",
    "    new_row = [intercept, rolling_avg_4, pct_vs_last_2, pct_vs_last_3, log_total_days_td, \n",
    "               main_color_basic, original_retail, brand_nike, line_Foamposite, line_Air]\n",
    "    \n",
    "    # convert new row to array and reshape\n",
    "    new_array = np.asarray(new_row)\n",
    "    new_array = new_array.reshape(1, -1) # to avoid numpy deprecation warning\n",
    "    \n",
    "    # Predict w/ tree model\n",
    "    log_pred_value = tree_model.predict(new_array)\n",
    "    pred_value = float(np.exp(log_pred_value)[0])\n",
    "    \n",
    "    # fill in sale price for new row, calc pct vs last on predicted sale price\n",
    "    sale_price = pred_value # sample from distribution? \n",
    "    pct_vs_last = sale_price / df.sale_price[last_row] - 1\n",
    "    \n",
    "    # adding everything together to make the new row \n",
    "    post_pred = [df.name[last_row], sale_price, pct_vs_last]\n",
    "    new_row_for_df = post_pred + new_row\n",
    "    df.ix[new_row_num] = new_row_for_df\n",
    "    \n",
    "    return pred_value, last_sale_price, df\n",
    "\n",
    "# run it for the one shoe\n",
    "pred_value, last_sale_price, newdf = make_new_row(x, tree_model)"
   ]
  },
  {
   "cell_type": "code",
   "execution_count": null,
   "metadata": {
    "collapsed": true
   },
   "outputs": [],
   "source": [
    "## Forecast next sale for all shoes! \n",
    "pred_results = []\n",
    "for i in shoe_list:\n",
    "    # subset dataframe to i in shoe list\n",
    "    xdf = forecast[forecast.name == i].reset_index(drop = True)\n",
    "    # next 7 days\n",
    "    for n in range(0, 7):\n",
    "        n_label = n + 1\n",
    "        pred_value, last_sale_price, xdf = make_new_row(xdf, tree_model)\n",
    "        pred_results.append([i, n_label, pred_value, last_sale_price])\n",
    "pred_results = pd.DataFrame(pred_results)\n",
    "pred_results.columns = ['name', 'n', 'predicted', 'last_sale_price']"
   ]
  },
  {
   "cell_type": "code",
   "execution_count": null,
   "metadata": {
    "collapsed": false
   },
   "outputs": [],
   "source": [
    "pred_results.head(20)"
   ]
  },
  {
   "cell_type": "code",
   "execution_count": null,
   "metadata": {
    "collapsed": false
   },
   "outputs": [],
   "source": [
    "chosen_shoe = shoe_list[randint(0, shoe_n)]\n",
    "pred_results.loc[pred_results.name == chosen_shoe, ['predicted']].plot()"
   ]
  },
  {
   "cell_type": "code",
   "execution_count": null,
   "metadata": {
    "collapsed": false
   },
   "outputs": [],
   "source": [
    "# Get the mean of predictions for each shoe\n",
    "pred2 = pred_results.copy()\n",
    "pred2['avg_pred'] = pred2.groupby('name')['predicted'].transform('mean')\n",
    "pred2 = pred2[pred2.n == 1]\n",
    "pred2 = pred2[['name', 'avg_pred', 'last_sale_price']]\n",
    "pred2.columns = ['name', 'predicted', 'last_sale_price']\n",
    "pred2.predicted = pred2['predicted'].apply(lambda x: round(x, 2))\n",
    "pred2.head()"
   ]
  },
  {
   "cell_type": "code",
   "execution_count": null,
   "metadata": {
    "collapsed": false
   },
   "outputs": [],
   "source": [
    "# add the up or down column and send to csv for the flask app\n",
    "pred2['change'] = pred2['predicted'] - pred2['last_sale_price']\n",
    "pred2['trend'] = 'down'\n",
    "pred2.loc[pred2.change > 0, 'trend'] = 'up'\n",
    "pred2.to_csv('shoe_forecast.csv', index = False)\n",
    "pred2.head()"
   ]
  },
  {
   "cell_type": "code",
   "execution_count": null,
   "metadata": {
    "collapsed": false
   },
   "outputs": [],
   "source": [
    "pred2.describe()"
   ]
  },
  {
   "cell_type": "code",
   "execution_count": null,
   "metadata": {
    "collapsed": false
   },
   "outputs": [],
   "source": [
    "pred2.trend.value_counts()"
   ]
  },
  {
   "cell_type": "code",
   "execution_count": null,
   "metadata": {
    "collapsed": true
   },
   "outputs": [],
   "source": []
  }
 ],
 "metadata": {
  "anaconda-cloud": {},
  "kernelspec": {
   "display_name": "Python [conda root]",
   "language": "python",
   "name": "conda-root-py"
  },
  "language_info": {
   "codemirror_mode": {
    "name": "ipython",
    "version": 2
   },
   "file_extension": ".py",
   "mimetype": "text/x-python",
   "name": "python",
   "nbconvert_exporter": "python",
   "pygments_lexer": "ipython2",
   "version": "2.7.12"
  }
 },
 "nbformat": 4,
 "nbformat_minor": 2
}
